{
 "cells": [
  {
   "cell_type": "markdown",
   "metadata": {},
   "source": [
    "# Logistic Regression with Keras\n",
    "* https://www.kaggle.com/jannesklaas/keras-generator-with-logistic-regression"
   ]
  },
  {
   "cell_type": "code",
   "execution_count": 4,
   "metadata": {},
   "outputs": [
    {
     "name": "stdout",
     "output_type": "stream",
     "text": [
      "Found 1055 images belonging to 8 classes.\n",
      "Found 220 images belonging to 8 classes.\n"
     ]
    }
   ],
   "source": [
    "import tensorflow as tf\n",
    "\n",
    "# change path to the correct path if needed\n",
    "train_data_dir = \"/home/eyan/Desktop/bug_bite/Resources/images/training\"\n",
    "valid_data_dir = \"/home/eyan/Desktop/bug_bite/Resources/images/testing\"\n",
    "\n",
    "\n",
    "batch_size = 20\n",
    "\n",
    "image_size = 150\n",
    "\n",
    "train_datagen = tf.keras.preprocessing.image.ImageDataGenerator(rescale=1./255.,\n",
    "    shear_range=0.2,\n",
    "    rotation_range =40,\n",
    "    zoom_range=0.2,\n",
    "    horizontal_flip=True)\n",
    "\n",
    "train_generator = train_datagen.flow_from_directory(\n",
    "    train_data_dir,\n",
    "    target_size=(image_size, image_size),\n",
    "    batch_size=batch_size,\n",
    "    class_mode='categorical') \n",
    "\n",
    "validation_datagen = tf.keras.preprocessing.image.ImageDataGenerator(rescale=1./255.)\n",
    "\n",
    "validation_generator = validation_datagen.flow_from_directory(\n",
    "    valid_data_dir, \n",
    "    target_size=(image_size, image_size),\n",
    "    batch_size=batch_size,\n",
    "    class_mode='categorical') "
   ]
  },
  {
   "cell_type": "code",
   "execution_count": 15,
   "metadata": {},
   "outputs": [],
   "source": [
    "from keras.models import Sequential \n",
    "from keras.layers import Dense, Activation, Flatten\n",
    "\n",
    "model = Sequential()\n",
    "model.add(Flatten(input_shape=(image_size,image_size,3)))\n",
    "model.add(Dense(8)) # 8 classes\n",
    "model.add(Activation('softmax'))"
   ]
  },
  {
   "cell_type": "code",
   "execution_count": 16,
   "metadata": {},
   "outputs": [],
   "source": [
    "model.compile(loss='categorical_crossentropy',optimizer='sgd', metrics = ['acc'])"
   ]
  },
  {
   "cell_type": "code",
   "execution_count": 17,
   "metadata": {},
   "outputs": [],
   "source": [
    "train_steps = train_generator.samples//batch_size\n",
    "valid_steps = validation_generator.samples//batch_size"
   ]
  },
  {
   "cell_type": "code",
   "execution_count": 21,
   "metadata": {},
   "outputs": [
    {
     "name": "stdout",
     "output_type": "stream",
     "text": [
      "Epoch 1/80\n",
      "52/52 [==============================] - 9s 174ms/step - loss: 64.0036 - accuracy: 0.1623 - val_loss: 62.7376 - val_accuracy: 0.1500\n",
      "Epoch 2/80\n",
      "52/52 [==============================] - 9s 174ms/step - loss: 62.5768 - accuracy: 0.1768 - val_loss: 60.4980 - val_accuracy: 0.1955\n",
      "Epoch 3/80\n",
      "52/52 [==============================] - 9s 173ms/step - loss: 62.9030 - accuracy: 0.1565 - val_loss: 63.5121 - val_accuracy: 0.1273\n",
      "Epoch 4/80\n",
      "52/52 [==============================] - 9s 166ms/step - loss: 66.9259 - accuracy: 0.1700 - val_loss: 34.8837 - val_accuracy: 0.1500\n",
      "Epoch 5/80\n",
      "52/52 [==============================] - 9s 179ms/step - loss: 58.0556 - accuracy: 0.1826 - val_loss: 68.6284 - val_accuracy: 0.2227\n",
      "Epoch 6/80\n",
      "52/52 [==============================] - 9s 176ms/step - loss: 61.5208 - accuracy: 0.1683 - val_loss: 55.2799 - val_accuracy: 0.1545\n",
      "Epoch 7/80\n",
      "52/52 [==============================] - 9s 174ms/step - loss: 64.7976 - accuracy: 0.1602 - val_loss: 48.9635 - val_accuracy: 0.1682\n",
      "Epoch 8/80\n",
      "52/52 [==============================] - 9s 168ms/step - loss: 60.0482 - accuracy: 0.1816 - val_loss: 91.4812 - val_accuracy: 0.2091\n",
      "Epoch 9/80\n",
      "52/52 [==============================] - 9s 179ms/step - loss: 61.5219 - accuracy: 0.1623 - val_loss: 54.0478 - val_accuracy: 0.1500\n",
      "Epoch 10/80\n",
      "52/52 [==============================] - 9s 174ms/step - loss: 63.5201 - accuracy: 0.1565 - val_loss: 37.3154 - val_accuracy: 0.1955\n",
      "Epoch 11/80\n",
      "52/52 [==============================] - ETA: 0s - loss: 65.2116 - accuracy: 0.162 - 9s 175ms/step - loss: 65.0957 - accuracy: 0.1623 - val_loss: 55.4086 - val_accuracy: 0.2500\n",
      "Epoch 12/80\n",
      "52/52 [==============================] - 9s 175ms/step - loss: 57.2181 - accuracy: 0.1923 - val_loss: 64.7225 - val_accuracy: 0.1773\n",
      "Epoch 13/80\n",
      "52/52 [==============================] - 9s 168ms/step - loss: 57.3039 - accuracy: 0.1865 - val_loss: 81.0092 - val_accuracy: 0.0955\n",
      "Epoch 14/80\n",
      "52/52 [==============================] - 9s 181ms/step - loss: 65.5967 - accuracy: 0.1635 - val_loss: 60.2232 - val_accuracy: 0.0636\n",
      "Epoch 15/80\n",
      "52/52 [==============================] - 9s 173ms/step - loss: 59.8014 - accuracy: 0.1594 - val_loss: 67.9741 - val_accuracy: 0.1818\n",
      "Epoch 16/80\n",
      "52/52 [==============================] - 9s 174ms/step - loss: 61.3569 - accuracy: 0.1894 - val_loss: 54.0638 - val_accuracy: 0.1773\n",
      "Epoch 17/80\n",
      "52/52 [==============================] - 9s 168ms/step - loss: 59.7951 - accuracy: 0.1806 - val_loss: 71.9842 - val_accuracy: 0.2136\n",
      "Epoch 18/80\n",
      "52/52 [==============================] - 9s 175ms/step - loss: 64.1445 - accuracy: 0.1604 - val_loss: 38.1773 - val_accuracy: 0.1773\n",
      "Epoch 19/80\n",
      "52/52 [==============================] - 9s 180ms/step - loss: 58.8240 - accuracy: 0.1700 - val_loss: 23.3305 - val_accuracy: 0.2500\n",
      "Epoch 20/80\n",
      "52/52 [==============================] - 9s 172ms/step - loss: 62.1566 - accuracy: 0.1729 - val_loss: 77.2500 - val_accuracy: 0.1773\n",
      "Epoch 21/80\n",
      "52/52 [==============================] - 9s 166ms/step - loss: 61.1701 - accuracy: 0.1865 - val_loss: 96.4330 - val_accuracy: 0.1364\n",
      "Epoch 22/80\n",
      "52/52 [==============================] - 9s 182ms/step - loss: 61.0638 - accuracy: 0.1740 - val_loss: 54.2428 - val_accuracy: 0.1864\n",
      "Epoch 23/80\n",
      "52/52 [==============================] - 9s 164ms/step - loss: 60.7238 - accuracy: 0.1874 - val_loss: 61.7256 - val_accuracy: 0.2182\n",
      "Epoch 24/80\n",
      "52/52 [==============================] - 10s 183ms/step - loss: 64.8198 - accuracy: 0.1476 - val_loss: 56.1451 - val_accuracy: 0.1636\n",
      "Epoch 25/80\n",
      "52/52 [==============================] - 9s 178ms/step - loss: 59.5905 - accuracy: 0.1952 - val_loss: 55.1897 - val_accuracy: 0.1455\n",
      "Epoch 26/80\n",
      "52/52 [==============================] - 9s 176ms/step - loss: 67.1983 - accuracy: 0.1488 - val_loss: 52.7167 - val_accuracy: 0.2000\n",
      "Epoch 27/80\n",
      "52/52 [==============================] - 9s 166ms/step - loss: 60.9573 - accuracy: 0.1835 - val_loss: 32.4330 - val_accuracy: 0.1773\n",
      "Epoch 28/80\n",
      "52/52 [==============================] - 9s 179ms/step - loss: 61.8541 - accuracy: 0.1827 - val_loss: 87.5155 - val_accuracy: 0.1955\n",
      "Epoch 29/80\n",
      "52/52 [==============================] - 9s 177ms/step - loss: 64.4895 - accuracy: 0.1602 - val_loss: 75.0495 - val_accuracy: 0.1500\n",
      "Epoch 30/80\n",
      "52/52 [==============================] - 9s 168ms/step - loss: 68.4944 - accuracy: 0.1671 - val_loss: 28.3806 - val_accuracy: 0.1773\n",
      "Epoch 31/80\n",
      "52/52 [==============================] - 9s 178ms/step - loss: 53.3323 - accuracy: 0.1837 - val_loss: 90.6112 - val_accuracy: 0.1545\n",
      "Epoch 32/80\n",
      "52/52 [==============================] - 9s 169ms/step - loss: 64.4938 - accuracy: 0.1777 - val_loss: 55.8095 - val_accuracy: 0.2000\n",
      "Epoch 33/80\n",
      "52/52 [==============================] - 9s 176ms/step - loss: 60.4087 - accuracy: 0.1681 - val_loss: 49.7535 - val_accuracy: 0.1773\n",
      "Epoch 34/80\n",
      "52/52 [==============================] - 9s 172ms/step - loss: 61.2563 - accuracy: 0.1683 - val_loss: 63.5814 - val_accuracy: 0.1636\n",
      "Epoch 35/80\n",
      "52/52 [==============================] - 9s 177ms/step - loss: 60.1177 - accuracy: 0.1786 - val_loss: 54.2934 - val_accuracy: 0.2455\n",
      "Epoch 36/80\n",
      "52/52 [==============================] - 9s 181ms/step - loss: 57.5781 - accuracy: 0.1798 - val_loss: 69.1409 - val_accuracy: 0.1500\n",
      "Epoch 37/80\n",
      "52/52 [==============================] - 9s 174ms/step - loss: 60.4950 - accuracy: 0.1739 - val_loss: 68.1431 - val_accuracy: 0.1364\n",
      "Epoch 38/80\n",
      "52/52 [==============================] - 10s 183ms/step - loss: 57.4605 - accuracy: 0.1700 - val_loss: 52.0018 - val_accuracy: 0.1409\n",
      "Epoch 39/80\n",
      "52/52 [==============================] - 9s 167ms/step - loss: 62.8435 - accuracy: 0.1700 - val_loss: 42.1767 - val_accuracy: 0.2136\n",
      "Epoch 40/80\n",
      "52/52 [==============================] - 9s 181ms/step - loss: 60.1460 - accuracy: 0.1778 - val_loss: 44.0771 - val_accuracy: 0.2455\n",
      "Epoch 41/80\n",
      "52/52 [==============================] - 9s 165ms/step - loss: 55.9806 - accuracy: 0.1816 - val_loss: 125.9508 - val_accuracy: 0.0409\n",
      "Epoch 42/80\n",
      "52/52 [==============================] - 9s 175ms/step - loss: 59.5845 - accuracy: 0.1865 - val_loss: 36.9712 - val_accuracy: 0.2091\n",
      "Epoch 43/80\n",
      "52/52 [==============================] - 9s 178ms/step - loss: 52.4841 - accuracy: 0.2019 - val_loss: 37.2938 - val_accuracy: 0.1727\n",
      "Epoch 44/80\n",
      "52/52 [==============================] - 9s 169ms/step - loss: 56.0671 - accuracy: 0.1865 - val_loss: 80.6267 - val_accuracy: 0.1182\n",
      "Epoch 45/80\n",
      "52/52 [==============================] - 9s 181ms/step - loss: 57.2343 - accuracy: 0.1710 - val_loss: 71.0457 - val_accuracy: 0.2409\n",
      "Epoch 46/80\n",
      "52/52 [==============================] - 9s 173ms/step - loss: 59.5782 - accuracy: 0.1855 - val_loss: 30.7010 - val_accuracy: 0.2818\n",
      "Epoch 47/80\n",
      "52/52 [==============================] - 9s 170ms/step - loss: 60.7452 - accuracy: 0.1768 - val_loss: 84.9111 - val_accuracy: 0.0591\n",
      "Epoch 48/80\n",
      "52/52 [==============================] - 9s 174ms/step - loss: 61.6839 - accuracy: 0.1807 - val_loss: 50.9100 - val_accuracy: 0.1818\n",
      "Epoch 49/80\n",
      "52/52 [==============================] - 9s 175ms/step - loss: 61.8416 - accuracy: 0.1575 - val_loss: 122.5085 - val_accuracy: 0.1455\n",
      "Epoch 50/80\n",
      "52/52 [==============================] - 9s 174ms/step - loss: 51.7834 - accuracy: 0.1826 - val_loss: 102.5051 - val_accuracy: 0.1591\n",
      "Epoch 51/80\n",
      "52/52 [==============================] - 9s 174ms/step - loss: 63.3246 - accuracy: 0.1604 - val_loss: 48.7438 - val_accuracy: 0.1955\n",
      "Epoch 52/80\n",
      "52/52 [==============================] - 9s 176ms/step - loss: 57.1095 - accuracy: 0.1952 - val_loss: 25.7137 - val_accuracy: 0.2545\n",
      "Epoch 53/80\n",
      "52/52 [==============================] - 9s 174ms/step - loss: 59.1128 - accuracy: 0.1855 - val_loss: 34.5179 - val_accuracy: 0.2455\n",
      "Epoch 54/80\n",
      "52/52 [==============================] - 9s 175ms/step - loss: 55.8286 - accuracy: 0.1874 - val_loss: 45.8664 - val_accuracy: 0.2318\n",
      "Epoch 55/80\n",
      "52/52 [==============================] - 9s 175ms/step - loss: 60.9384 - accuracy: 0.1778 - val_loss: 32.5032 - val_accuracy: 0.2136\n",
      "Epoch 56/80\n",
      "52/52 [==============================] - 9s 175ms/step - loss: 54.7531 - accuracy: 0.1874 - val_loss: 41.2911 - val_accuracy: 0.1409\n",
      "Epoch 57/80\n"
     ]
    },
    {
     "name": "stdout",
     "output_type": "stream",
     "text": [
      "52/52 [==============================] - 9s 175ms/step - loss: 58.2182 - accuracy: 0.1769 - val_loss: 65.0409 - val_accuracy: 0.2091\n",
      "Epoch 58/80\n",
      "52/52 [==============================] - 9s 165ms/step - loss: 60.1605 - accuracy: 0.1816 - val_loss: 64.7355 - val_accuracy: 0.2545\n",
      "Epoch 59/80\n",
      "52/52 [==============================] - 9s 179ms/step - loss: 60.7102 - accuracy: 0.1623 - val_loss: 47.0159 - val_accuracy: 0.2045\n",
      "Epoch 60/80\n",
      "52/52 [==============================] - 9s 164ms/step - loss: 58.5730 - accuracy: 0.1836 - val_loss: 28.5007 - val_accuracy: 0.1682\n",
      "Epoch 61/80\n",
      "52/52 [==============================] - 9s 174ms/step - loss: 54.1659 - accuracy: 0.2087 - val_loss: 55.9844 - val_accuracy: 0.1500\n",
      "Epoch 62/80\n",
      "52/52 [==============================] - 10s 188ms/step - loss: 57.3230 - accuracy: 0.1913 - val_loss: 73.9470 - val_accuracy: 0.1273\n",
      "Epoch 63/80\n",
      "52/52 [==============================] - 9s 179ms/step - loss: 67.7289 - accuracy: 0.1662 - val_loss: 24.7407 - val_accuracy: 0.1909\n",
      "Epoch 64/80\n",
      "52/52 [==============================] - 9s 177ms/step - loss: 50.6725 - accuracy: 0.1952 - val_loss: 33.3372 - val_accuracy: 0.2500\n",
      "Epoch 65/80\n",
      "52/52 [==============================] - 9s 170ms/step - loss: 51.4390 - accuracy: 0.2058 - val_loss: 61.2695 - val_accuracy: 0.2091\n",
      "Epoch 66/80\n",
      "52/52 [==============================] - 9s 171ms/step - loss: 58.8916 - accuracy: 0.1631 - val_loss: 45.7717 - val_accuracy: 0.1091\n",
      "Epoch 67/80\n",
      "52/52 [==============================] - 9s 178ms/step - loss: 53.9847 - accuracy: 0.1845 - val_loss: 68.3333 - val_accuracy: 0.2136\n",
      "Epoch 68/80\n",
      "52/52 [==============================] - 9s 182ms/step - loss: 61.1579 - accuracy: 0.1865 - val_loss: 89.2035 - val_accuracy: 0.1227\n",
      "Epoch 69/80\n",
      "52/52 [==============================] - 9s 172ms/step - loss: 52.4650 - accuracy: 0.1845 - val_loss: 62.4185 - val_accuracy: 0.1455\n",
      "Epoch 70/80\n",
      "52/52 [==============================] - 9s 167ms/step - loss: 57.1600 - accuracy: 0.1787 - val_loss: 90.6355 - val_accuracy: 0.1773\n",
      "Epoch 71/80\n",
      "52/52 [==============================] - 9s 177ms/step - loss: 56.3562 - accuracy: 0.1971 - val_loss: 47.6382 - val_accuracy: 0.1864\n",
      "Epoch 72/80\n",
      "52/52 [==============================] - 9s 170ms/step - loss: 57.9054 - accuracy: 0.1923 - val_loss: 20.7126 - val_accuracy: 0.2682\n",
      "Epoch 73/80\n",
      "52/52 [==============================] - 9s 175ms/step - loss: 53.5180 - accuracy: 0.1903 - val_loss: 65.9286 - val_accuracy: 0.1682\n",
      "Epoch 74/80\n",
      "52/52 [==============================] - 9s 172ms/step - loss: 60.6885 - accuracy: 0.1884 - val_loss: 100.7267 - val_accuracy: 0.1500\n",
      "Epoch 75/80\n",
      "52/52 [==============================] - 9s 172ms/step - loss: 62.9837 - accuracy: 0.1749 - val_loss: 65.9752 - val_accuracy: 0.1409\n",
      "Epoch 76/80\n",
      "52/52 [==============================] - 9s 169ms/step - loss: 54.6700 - accuracy: 0.2038 - val_loss: 16.3852 - val_accuracy: 0.2682\n",
      "Epoch 77/80\n",
      "52/52 [==============================] - 9s 173ms/step - loss: 54.6228 - accuracy: 0.1932 - val_loss: 53.3963 - val_accuracy: 0.1955\n",
      "Epoch 78/80\n",
      "52/52 [==============================] - 9s 170ms/step - loss: 53.5848 - accuracy: 0.1942 - val_loss: 42.9785 - val_accuracy: 0.1545\n",
      "Epoch 79/80\n",
      "52/52 [==============================] - 9s 172ms/step - loss: 60.2606 - accuracy: 0.1662 - val_loss: 54.9644 - val_accuracy: 0.2182\n",
      "Epoch 80/80\n",
      "52/52 [==============================] - 9s 177ms/step - loss: 58.1135 - accuracy: 0.1787 - val_loss: 51.6415 - val_accuracy: 0.1818\n"
     ]
    },
    {
     "data": {
      "text/plain": [
       "<keras.callbacks.callbacks.History at 0x7f72f0081310>"
      ]
     },
     "execution_count": 21,
     "metadata": {},
     "output_type": "execute_result"
    }
   ],
   "source": [
    "nb_epoch = 80\n",
    "\n",
    "model.fit_generator(train_generator,\n",
    "                    epochs = nb_epoch,\n",
    "                    steps_per_epoch = train_steps, \n",
    "                    validation_data = validation_generator, \n",
    "                    validation_steps = valid_steps)"
   ]
  },
  {
   "cell_type": "code",
   "execution_count": 23,
   "metadata": {},
   "outputs": [],
   "source": [
    "# final model for use later\n",
    "model.save(\"/home/eyan/Desktop/bug_bite_old/models/logistic_regression_19p.h5\")"
   ]
  },
  {
   "cell_type": "code",
   "execution_count": null,
   "metadata": {},
   "outputs": [],
   "source": []
  }
 ],
 "metadata": {
  "kernelspec": {
   "display_name": "Python 3",
   "language": "python",
   "name": "python3"
  },
  "language_info": {
   "codemirror_mode": {
    "name": "ipython",
    "version": 3
   },
   "file_extension": ".py",
   "mimetype": "text/x-python",
   "name": "python",
   "nbconvert_exporter": "python",
   "pygments_lexer": "ipython3",
   "version": "3.7.7"
  }
 },
 "nbformat": 4,
 "nbformat_minor": 4
}
