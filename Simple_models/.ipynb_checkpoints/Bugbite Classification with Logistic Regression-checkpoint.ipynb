{
 "cells": [
  {
   "cell_type": "markdown",
   "metadata": {},
   "source": [
    "# Logistic Regression with Keras\n",
    "* https://www.kaggle.com/jannesklaas/keras-generator-with-logistic-regression"
   ]
  },
  {
   "cell_type": "code",
   "execution_count": 4,
   "metadata": {},
   "outputs": [
    {
     "name": "stdout",
     "output_type": "stream",
     "text": [
      "Found 1055 images belonging to 8 classes.\n",
      "Found 220 images belonging to 8 classes.\n"
     ]
    }
   ],
   "source": [
    "import tensorflow as tf\n",
    "\n",
    "# change path to the correct path if needed\n",
    "train_data_dir = \"/home/eyan/Desktop/bug_bite/Resources/images/training\"\n",
    "valid_data_dir = \"/home/eyan/Desktop/bug_bite/Resources/images/testing\"\n",
    "\n",
    "\n",
    "batch_size = 20\n",
    "\n",
    "image_size = 150\n",
    "\n",
    "train_datagen = tf.keras.preprocessing.image.ImageDataGenerator(rescale=1./255.,\n",
    "    shear_range=0.2,\n",
    "    rotation_range =40,\n",
    "    zoom_range=0.2,\n",
    "    horizontal_flip=True)\n",
    "\n",
    "train_generator = train_datagen.flow_from_directory(\n",
    "    train_data_dir,\n",
    "    target_size=(image_size, image_size),\n",
    "    batch_size=batch_size,\n",
    "    class_mode='categorical') \n",
    "\n",
    "validation_datagen = tf.keras.preprocessing.image.ImageDataGenerator(rescale=1./255.)\n",
    "\n",
    "validation_generator = validation_datagen.flow_from_directory(\n",
    "    valid_data_dir, \n",
    "    target_size=(image_size, image_size),\n",
    "    batch_size=batch_size,\n",
    "    class_mode='categorical') "
   ]
  },
  {
   "cell_type": "code",
   "execution_count": 15,
   "metadata": {},
   "outputs": [],
   "source": [
    "from keras.models import Sequential \n",
    "from keras.layers import Dense, Activation, Flatten\n",
    "\n",
    "model = Sequential()\n",
    "model.add(Flatten(input_shape=(image_size,image_size,3)))\n",
    "model.add(Dense(8)) # 8 classes\n",
    "model.add(Activation('softmax'))"
   ]
  },
  {
   "cell_type": "code",
   "execution_count": 16,
   "metadata": {},
   "outputs": [],
   "source": [
    "model.compile(loss='categorical_crossentropy',optimizer='sgd', metrics = ['acc'])"
   ]
  },
  {
   "cell_type": "code",
   "execution_count": 17,
   "metadata": {},
   "outputs": [],
   "source": [
    "nb_epoch = 20\n",
    "\n",
    "train_steps = train_generator.samples//batch_size\n",
    "valid_steps = validation_generator.samples//batch_size"
   ]
  },
  {
   "cell_type": "code",
   "execution_count": null,
   "metadata": {},
   "outputs": [
    {
     "name": "stdout",
     "output_type": "stream",
     "text": [
      "Epoch 1/20\n",
      "52/52 [==============================] - 9s 180ms/step - loss: 74.2720 - acc: 0.1362 - val_loss: 76.7884 - val_acc: 0.2318\n",
      "Epoch 2/20\n",
      "52/52 [==============================] - 9s 176ms/step - loss: 66.9969 - acc: 0.1739 - val_loss: 91.6104 - val_acc: 0.1045\n",
      "Epoch 3/20\n",
      "52/52 [==============================] - 9s 177ms/step - loss: 74.1516 - acc: 0.1527 - val_loss: 109.5257 - val_acc: 0.1455\n",
      "Epoch 4/20\n",
      "52/52 [==============================] - 9s 178ms/step - loss: 74.3595 - acc: 0.1510 - val_loss: 66.9275 - val_acc: 0.1000\n",
      "Epoch 5/20\n",
      "52/52 [==============================] - 9s 170ms/step - loss: 69.8877 - acc: 0.1680 - val_loss: 44.0938 - val_acc: 0.1364\n",
      "Epoch 6/20\n",
      "52/52 [==============================] - 10s 190ms/step - loss: 75.4976 - acc: 0.1420 - val_loss: 27.6223 - val_acc: 0.1864\n",
      "Epoch 7/20\n",
      "51/52 [============================>.] - ETA: 0s - loss: 68.0063 - acc: 0.1635"
     ]
    }
   ],
   "source": [
    "model.fit_generator(train_generator,\n",
    "                    epochs = nb_epoch,\n",
    "                    steps_per_epoch = train_steps, \n",
    "                    validation_data = validation_generator, \n",
    "                    validation_steps = valid_steps)"
   ]
  },
  {
   "cell_type": "code",
   "execution_count": null,
   "metadata": {},
   "outputs": [],
   "source": []
  }
 ],
 "metadata": {
  "kernelspec": {
   "display_name": "Python 3",
   "language": "python",
   "name": "python3"
  },
  "language_info": {
   "codemirror_mode": {
    "name": "ipython",
    "version": 3
   },
   "file_extension": ".py",
   "mimetype": "text/x-python",
   "name": "python",
   "nbconvert_exporter": "python",
   "pygments_lexer": "ipython3",
   "version": "3.7.7"
  }
 },
 "nbformat": 4,
 "nbformat_minor": 4
}
