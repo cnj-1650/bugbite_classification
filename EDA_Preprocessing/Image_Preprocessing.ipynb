{
 "cells": [
  {
   "cell_type": "markdown",
   "metadata": {},
   "source": [
    "# Image Preprocessing and Extracting features from tables\n",
    "\n",
    "\n",
    "# Steps:\n",
    "1. Get the file location of the images\n",
    "2. Summary statistics of the images if possible"
   ]
  },
  {
   "cell_type": "markdown",
   "metadata": {},
   "source": [
    "## Getting file path and file name\n",
    "* Using ubuntu terminal to cd into the folder with the images of that category and use ls -1\n",
    "* ls -1 limit output to 1 column\n",
    "* copy and paste file name to excel column\n",
    "* put the file path to the folder and the cateogry in the 2nd and 3rd column\n",
    "* Ctrl + Shift + C for copying from terminal\n",
    "\n",
    "* Saved \"images_file_name.csv\" in the EDA_Preprocessing folder"
   ]
  },
  {
   "cell_type": "markdown",
   "metadata": {},
   "source": [
    "# Image file path"
   ]
  },
  {
   "cell_type": "code",
   "execution_count": 1,
   "metadata": {},
   "outputs": [],
   "source": [
    "import pandas as pd"
   ]
  },
  {
   "cell_type": "code",
   "execution_count": 2,
   "metadata": {},
   "outputs": [],
   "source": [
    "img = pd.read_csv('./images_file_name.csv')"
   ]
  },
  {
   "cell_type": "code",
   "execution_count": 3,
   "metadata": {},
   "outputs": [
    {
     "data": {
      "text/html": [
       "<div>\n",
       "<style scoped>\n",
       "    .dataframe tbody tr th:only-of-type {\n",
       "        vertical-align: middle;\n",
       "    }\n",
       "\n",
       "    .dataframe tbody tr th {\n",
       "        vertical-align: top;\n",
       "    }\n",
       "\n",
       "    .dataframe thead th {\n",
       "        text-align: right;\n",
       "    }\n",
       "</style>\n",
       "<table border=\"1\" class=\"dataframe\">\n",
       "  <thead>\n",
       "    <tr style=\"text-align: right;\">\n",
       "      <th></th>\n",
       "      <th>file_name</th>\n",
       "      <th>folder</th>\n",
       "      <th>category</th>\n",
       "    </tr>\n",
       "  </thead>\n",
       "  <tbody>\n",
       "    <tr>\n",
       "      <th>0</th>\n",
       "      <td>antsimage100.jpg</td>\n",
       "      <td>/home/eyan/Desktop/bug_bite/web_scraping/usefu...</td>\n",
       "      <td>ants</td>\n",
       "    </tr>\n",
       "    <tr>\n",
       "      <th>1</th>\n",
       "      <td>antsimage103.jpg</td>\n",
       "      <td>/home/eyan/Desktop/bug_bite/web_scraping/usefu...</td>\n",
       "      <td>ants</td>\n",
       "    </tr>\n",
       "    <tr>\n",
       "      <th>2</th>\n",
       "      <td>antsimage107.jpg</td>\n",
       "      <td>/home/eyan/Desktop/bug_bite/web_scraping/usefu...</td>\n",
       "      <td>ants</td>\n",
       "    </tr>\n",
       "    <tr>\n",
       "      <th>3</th>\n",
       "      <td>antsimage108.jpg</td>\n",
       "      <td>/home/eyan/Desktop/bug_bite/web_scraping/usefu...</td>\n",
       "      <td>ants</td>\n",
       "    </tr>\n",
       "    <tr>\n",
       "      <th>4</th>\n",
       "      <td>antsimage10.jpg</td>\n",
       "      <td>/home/eyan/Desktop/bug_bite/web_scraping/usefu...</td>\n",
       "      <td>ants</td>\n",
       "    </tr>\n",
       "  </tbody>\n",
       "</table>\n",
       "</div>"
      ],
      "text/plain": [
       "          file_name                                             folder  \\\n",
       "0  antsimage100.jpg  /home/eyan/Desktop/bug_bite/web_scraping/usefu...   \n",
       "1  antsimage103.jpg  /home/eyan/Desktop/bug_bite/web_scraping/usefu...   \n",
       "2  antsimage107.jpg  /home/eyan/Desktop/bug_bite/web_scraping/usefu...   \n",
       "3  antsimage108.jpg  /home/eyan/Desktop/bug_bite/web_scraping/usefu...   \n",
       "4   antsimage10.jpg  /home/eyan/Desktop/bug_bite/web_scraping/usefu...   \n",
       "\n",
       "  category  \n",
       "0     ants  \n",
       "1     ants  \n",
       "2     ants  \n",
       "3     ants  \n",
       "4     ants  "
      ]
     },
     "execution_count": 3,
     "metadata": {},
     "output_type": "execute_result"
    }
   ],
   "source": [
    "img.head()"
   ]
  },
  {
   "cell_type": "code",
   "execution_count": 5,
   "metadata": {},
   "outputs": [
    {
     "data": {
      "text/html": [
       "<div>\n",
       "<style scoped>\n",
       "    .dataframe tbody tr th:only-of-type {\n",
       "        vertical-align: middle;\n",
       "    }\n",
       "\n",
       "    .dataframe tbody tr th {\n",
       "        vertical-align: top;\n",
       "    }\n",
       "\n",
       "    .dataframe thead tr th {\n",
       "        text-align: left;\n",
       "    }\n",
       "\n",
       "    .dataframe thead tr:last-of-type th {\n",
       "        text-align: right;\n",
       "    }\n",
       "</style>\n",
       "<table border=\"1\" class=\"dataframe\">\n",
       "  <thead>\n",
       "    <tr>\n",
       "      <th></th>\n",
       "      <th colspan=\"4\" halign=\"left\">file_name</th>\n",
       "      <th colspan=\"4\" halign=\"left\">folder</th>\n",
       "    </tr>\n",
       "    <tr>\n",
       "      <th></th>\n",
       "      <th>count</th>\n",
       "      <th>unique</th>\n",
       "      <th>top</th>\n",
       "      <th>freq</th>\n",
       "      <th>count</th>\n",
       "      <th>unique</th>\n",
       "      <th>top</th>\n",
       "      <th>freq</th>\n",
       "    </tr>\n",
       "    <tr>\n",
       "      <th>category</th>\n",
       "      <th></th>\n",
       "      <th></th>\n",
       "      <th></th>\n",
       "      <th></th>\n",
       "      <th></th>\n",
       "      <th></th>\n",
       "      <th></th>\n",
       "      <th></th>\n",
       "    </tr>\n",
       "  </thead>\n",
       "  <tbody>\n",
       "    <tr>\n",
       "      <th>ants</th>\n",
       "      <td>183</td>\n",
       "      <td>183</td>\n",
       "      <td>fire_antsimage218.jpg</td>\n",
       "      <td>1</td>\n",
       "      <td>183</td>\n",
       "      <td>1</td>\n",
       "      <td>/home/eyan/Desktop/bug_bite/web_scraping/usefu...</td>\n",
       "      <td>183</td>\n",
       "    </tr>\n",
       "    <tr>\n",
       "      <th>bed_bugs</th>\n",
       "      <td>152</td>\n",
       "      <td>152</td>\n",
       "      <td>bed_bugsimage291.jpg</td>\n",
       "      <td>1</td>\n",
       "      <td>152</td>\n",
       "      <td>1</td>\n",
       "      <td>/home/eyan/Desktop/bug_bite/web_scraping/usefu...</td>\n",
       "      <td>152</td>\n",
       "    </tr>\n",
       "    <tr>\n",
       "      <th>chiggers</th>\n",
       "      <td>165</td>\n",
       "      <td>165</td>\n",
       "      <td>chiggersimage93.jpg</td>\n",
       "      <td>1</td>\n",
       "      <td>165</td>\n",
       "      <td>1</td>\n",
       "      <td>/home/eyan/Desktop/bug_bite/web_scraping/usefu...</td>\n",
       "      <td>165</td>\n",
       "    </tr>\n",
       "    <tr>\n",
       "      <th>negative</th>\n",
       "      <td>263</td>\n",
       "      <td>263</td>\n",
       "      <td>goose_bumpimage716.jpg</td>\n",
       "      <td>1</td>\n",
       "      <td>263</td>\n",
       "      <td>1</td>\n",
       "      <td>/home/eyan/Desktop/bug_bite/web_scraping/usefu...</td>\n",
       "      <td>263</td>\n",
       "    </tr>\n",
       "    <tr>\n",
       "      <th>rash</th>\n",
       "      <td>276</td>\n",
       "      <td>276</td>\n",
       "      <td>rashimage375.jpg</td>\n",
       "      <td>1</td>\n",
       "      <td>276</td>\n",
       "      <td>1</td>\n",
       "      <td>/home/eyan/Desktop/bug_bite/web_scraping/usefu...</td>\n",
       "      <td>276</td>\n",
       "    </tr>\n",
       "    <tr>\n",
       "      <th>spiders</th>\n",
       "      <td>176</td>\n",
       "      <td>176</td>\n",
       "      <td>es_spidersimage182.jpg</td>\n",
       "      <td>1</td>\n",
       "      <td>176</td>\n",
       "      <td>1</td>\n",
       "      <td>/home/eyan/Desktop/bug_bite/web_scraping/usefu...</td>\n",
       "      <td>176</td>\n",
       "    </tr>\n",
       "    <tr>\n",
       "      <th>ticks</th>\n",
       "      <td>185</td>\n",
       "      <td>185</td>\n",
       "      <td>es_ticksimage11.jpg</td>\n",
       "      <td>1</td>\n",
       "      <td>185</td>\n",
       "      <td>1</td>\n",
       "      <td>/home/eyan/Desktop/bug_bite/web_scraping/usefu...</td>\n",
       "      <td>185</td>\n",
       "    </tr>\n",
       "  </tbody>\n",
       "</table>\n",
       "</div>"
      ],
      "text/plain": [
       "         file_name                                     folder         \\\n",
       "             count unique                     top freq  count unique   \n",
       "category                                                               \n",
       "ants           183    183   fire_antsimage218.jpg    1    183      1   \n",
       "bed_bugs       152    152    bed_bugsimage291.jpg    1    152      1   \n",
       "chiggers       165    165     chiggersimage93.jpg    1    165      1   \n",
       "negative       263    263  goose_bumpimage716.jpg    1    263      1   \n",
       "rash           276    276        rashimage375.jpg    1    276      1   \n",
       "spiders        176    176  es_spidersimage182.jpg    1    176      1   \n",
       "ticks          185    185     es_ticksimage11.jpg    1    185      1   \n",
       "\n",
       "                                                                  \n",
       "                                                        top freq  \n",
       "category                                                          \n",
       "ants      /home/eyan/Desktop/bug_bite/web_scraping/usefu...  183  \n",
       "bed_bugs  /home/eyan/Desktop/bug_bite/web_scraping/usefu...  152  \n",
       "chiggers  /home/eyan/Desktop/bug_bite/web_scraping/usefu...  165  \n",
       "negative  /home/eyan/Desktop/bug_bite/web_scraping/usefu...  263  \n",
       "rash      /home/eyan/Desktop/bug_bite/web_scraping/usefu...  276  \n",
       "spiders   /home/eyan/Desktop/bug_bite/web_scraping/usefu...  176  \n",
       "ticks     /home/eyan/Desktop/bug_bite/web_scraping/usefu...  185  "
      ]
     },
     "execution_count": 5,
     "metadata": {},
     "output_type": "execute_result"
    }
   ],
   "source": [
    "# seeing the count of each\n",
    "img.groupby(['category']).describe()"
   ]
  },
  {
   "cell_type": "code",
   "execution_count": 8,
   "metadata": {},
   "outputs": [],
   "source": [
    "import seaborn as sns\n",
    "import matplotlib.pyplot as plt"
   ]
  },
  {
   "cell_type": "code",
   "execution_count": 75,
   "metadata": {},
   "outputs": [
    {
     "data": {
      "image/png": "[encoded data removed]",
      "text/plain": [
       "<Figure size 720x504 with 1 Axes>"
      ]
     },
     "metadata": {},
     "output_type": "display_data"
    }
   ],
   "source": [
    "# this set the overall font size and image size\n",
    "# style white has white background, no grid\n",
    "sns.set(rc={'figure.figsize':(10,7),\"font.size\":20,\"axes.titlesize\":20,\"axes.labelsize\":20},style=\"white\")\n",
    "\n",
    "# setting the color palette to use\n",
    "color_pal = {category: \"firebrick\" if category== \"negative\" or category == \"rash\" else \"midnightblue\" for category in img.category.unique()}\n",
    "\n",
    "# if I want to set the palette\n",
    "# sns.set_palette(\"pastel\")\n",
    "\n",
    "# making a countplot with my defined palette\n",
    "f = sns.countplot(data=img,y='category', palette=color_pal)\n",
    "\n",
    "# setting the xtick labels size\n",
    "f.set_xticklabels(f.get_xticks(), size = 22)\n",
    "\n",
    "# since y label is text, need to first get the text then set the font size of the text instead of the numbers\n",
    "# getting the lables\n",
    "_, ylabels = plt.yticks()\n",
    "# setting the font size of the y tick text\n",
    "f.set_yticklabels(ylabels, size=22)\n",
    "\n",
    "plt.show()"
   ]
  },
  {
   "cell_type": "code",
   "execution_count": null,
   "metadata": {},
   "outputs": [],
   "source": []
  }
 ],
 "metadata": {
  "kernelspec": {
   "display_name": "Python 3",
   "language": "python",
   "name": "python3"
  },
  "language_info": {
   "codemirror_mode": {
    "name": "ipython",
    "version": 3
   },
   "file_extension": ".py",
   "mimetype": "text/x-python",
   "name": "python",
   "nbconvert_exporter": "python",
   "pygments_lexer": "ipython3",
   "version": "3.8.1"
  }
 },
 "nbformat": 4,
 "nbformat_minor": 4
}
