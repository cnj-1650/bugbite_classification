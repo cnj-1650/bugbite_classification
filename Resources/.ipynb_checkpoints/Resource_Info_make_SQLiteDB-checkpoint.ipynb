{
 "cells": [
  {
   "cell_type": "code",
   "execution_count": 9,
   "metadata": {},
   "outputs": [],
   "source": [
    "import pandas as pd"
   ]
  },
  {
   "cell_type": "code",
   "execution_count": 10,
   "metadata": {},
   "outputs": [],
   "source": [
    "file_path = 'webpage_resources/others/resource_info.csv'\n",
    "info = pd.read_csv(file_path)"
   ]
  },
  {
   "cell_type": "code",
   "execution_count": 11,
   "metadata": {},
   "outputs": [
    {
     "data": {
      "text/html": [
       "<div>\n",
       "<style scoped>\n",
       "    .dataframe tbody tr th:only-of-type {\n",
       "        vertical-align: middle;\n",
       "    }\n",
       "\n",
       "    .dataframe tbody tr th {\n",
       "        vertical-align: top;\n",
       "    }\n",
       "\n",
       "    .dataframe thead th {\n",
       "        text-align: right;\n",
       "    }\n",
       "</style>\n",
       "<table border=\"1\" class=\"dataframe\">\n",
       "  <thead>\n",
       "    <tr style=\"text-align: right;\">\n",
       "      <th></th>\n",
       "      <th>Resource</th>\n",
       "      <th>bug</th>\n",
       "      <th>Symptoms</th>\n",
       "      <th>Location</th>\n",
       "      <th>Bites</th>\n",
       "    </tr>\n",
       "  </thead>\n",
       "  <tbody>\n",
       "    <tr>\n",
       "      <th>0</th>\n",
       "      <td>https://www.healthline.com/health/spider-bites</td>\n",
       "      <td>spiders</td>\n",
       "      <td>Swelling, a red welt, skin damage, any troubli...</td>\n",
       "      <td>Any part of the body</td>\n",
       "      <td>Single</td>\n",
       "    </tr>\n",
       "    <tr>\n",
       "      <th>1</th>\n",
       "      <td>https://www.healthline.com/health/bed-bug-bites</td>\n",
       "      <td>bed_bugs</td>\n",
       "      <td>If a bedbug bites your skin, you won’t feel it...</td>\n",
       "      <td>Usually bite areas of skin that are exposed wh...</td>\n",
       "      <td>Multiple (in a line or cluster)</td>\n",
       "    </tr>\n",
       "    <tr>\n",
       "      <th>2</th>\n",
       "      <td>https://www.healthline.com/health/chigger-bites</td>\n",
       "      <td>chiggers</td>\n",
       "      <td>Reddish bumps. You may notice a bright red dot...</td>\n",
       "      <td>Warm, moist areas of the body. Also feet and l...</td>\n",
       "      <td>Multiple</td>\n",
       "    </tr>\n",
       "    <tr>\n",
       "      <th>3</th>\n",
       "      <td>https://www.healthline.com/health/fire-ant-bites</td>\n",
       "      <td>fire_ants</td>\n",
       "      <td>Groups of swollen red spots that develop a bl...</td>\n",
       "      <td>Fire ants attack in swarms, racing up vertical...</td>\n",
       "      <td>Multiple</td>\n",
       "    </tr>\n",
       "    <tr>\n",
       "      <th>4</th>\n",
       "      <td>https://www.healthline.com/health/tick-bites</td>\n",
       "      <td>ticks</td>\n",
       "      <td>Tick can remain attached to the skin for up t...</td>\n",
       "      <td>Prefer warm, moist areas of the body. Once a t...</td>\n",
       "      <td>Single</td>\n",
       "    </tr>\n",
       "    <tr>\n",
       "      <th>5</th>\n",
       "      <td>https://www.healthline.com/health/flea-bites</td>\n",
       "      <td>fleas</td>\n",
       "      <td>Small, red bumps in clusters of three or four...</td>\n",
       "      <td>Common around the legs or ankles, around the w...</td>\n",
       "      <td>Multiple (in a line)</td>\n",
       "    </tr>\n",
       "    <tr>\n",
       "      <th>6</th>\n",
       "      <td>https://www.healthline.com/health/mosquito-bites</td>\n",
       "      <td>mosquitos</td>\n",
       "      <td>Round and puffy bump forming. In some cases, y...</td>\n",
       "      <td>Any part of the body</td>\n",
       "      <td>Multiple</td>\n",
       "    </tr>\n",
       "  </tbody>\n",
       "</table>\n",
       "</div>"
      ],
      "text/plain": [
       "                                           Resource        bug  \\\n",
       "0    https://www.healthline.com/health/spider-bites    spiders   \n",
       "1   https://www.healthline.com/health/bed-bug-bites   bed_bugs   \n",
       "2   https://www.healthline.com/health/chigger-bites   chiggers   \n",
       "3  https://www.healthline.com/health/fire-ant-bites  fire_ants   \n",
       "4      https://www.healthline.com/health/tick-bites      ticks   \n",
       "5      https://www.healthline.com/health/flea-bites      fleas   \n",
       "6  https://www.healthline.com/health/mosquito-bites  mosquitos   \n",
       "\n",
       "                                            Symptoms  \\\n",
       "0  Swelling, a red welt, skin damage, any troubli...   \n",
       "1  If a bedbug bites your skin, you won’t feel it...   \n",
       "2  Reddish bumps. You may notice a bright red dot...   \n",
       "3   Groups of swollen red spots that develop a bl...   \n",
       "4   Tick can remain attached to the skin for up t...   \n",
       "5   Small, red bumps in clusters of three or four...   \n",
       "6  Round and puffy bump forming. In some cases, y...   \n",
       "\n",
       "                                            Location  \\\n",
       "0                               Any part of the body   \n",
       "1  Usually bite areas of skin that are exposed wh...   \n",
       "2  Warm, moist areas of the body. Also feet and l...   \n",
       "3  Fire ants attack in swarms, racing up vertical...   \n",
       "4  Prefer warm, moist areas of the body. Once a t...   \n",
       "5  Common around the legs or ankles, around the w...   \n",
       "6                               Any part of the body   \n",
       "\n",
       "                             Bites  \n",
       "0                           Single  \n",
       "1  Multiple (in a line or cluster)  \n",
       "2                         Multiple  \n",
       "3                         Multiple  \n",
       "4                           Single  \n",
       "5             Multiple (in a line)  \n",
       "6                         Multiple  "
      ]
     },
     "execution_count": 11,
     "metadata": {},
     "output_type": "execute_result"
    }
   ],
   "source": [
    "info"
   ]
  },
  {
   "cell_type": "code",
   "execution_count": 12,
   "metadata": {},
   "outputs": [],
   "source": [
    "from sqlalchemy import create_engine\n",
    "\n",
    "# save a sqlite file called bugbite\n",
    "engine = create_engine('sqlite:///bugbite.sqlite', echo=False)"
   ]
  },
  {
   "cell_type": "code",
   "execution_count": 13,
   "metadata": {},
   "outputs": [],
   "source": [
    "# convert dataframe to sql, labeling the index as id\n",
    "info.to_sql('info',con=engine,if_exists='replace',index_label='id')"
   ]
  },
  {
   "cell_type": "code",
   "execution_count": 14,
   "metadata": {},
   "outputs": [
    {
     "data": {
      "text/plain": [
       "[(0, 'https://www.healthline.com/health/spider-bites', 'spiders', 'Swelling, a red welt, skin damage, any troubling symptoms that accompany the bite ', 'Any part of the body', 'Single'),\n",
       " (1, 'https://www.healthline.com/health/bed-bug-bites', 'bed_bugs', 'If a bedbug bites your skin, you won’t feel it right away because the bugs excrete a tiny amount of anesthetic before feeding on people. It can somet ... (31 characters truncated) ... ms of bed bug bites to develop. Bedbug bites often become noticeably red and swollen. The bites tend to be itchy. They may cause a burning sensation.', 'Usually bite areas of skin that are exposed while you sleep, such as your face, neck, arms, and hands.', 'Multiple (in a line or cluster)'),\n",
       " (2, 'https://www.healthline.com/health/chigger-bites', 'chiggers', 'Reddish bumps. You may notice a bright red dot in the center — this is a remnant of the tube your skin formed in response to the chigger’s saliva. Th ... (54 characters truncated) ... e.  Most people report symptoms within hours of the bite. The most problematic symptom of chigger bites is the intense itching and desire to scratch.', 'Warm, moist areas of the body. Also feet and legs as you walk through infected area', 'Multiple'),\n",
       " (3, 'https://www.healthline.com/health/fire-ant-bites', 'fire_ants', ' Groups of swollen red spots that develop a blister on the top. Stings hurt, itch, and last up to a week.', 'Fire ants attack in swarms, racing up vertical surfaces (such as your leg) when their nests are disturbed.\\xa0', 'Multiple'),\n",
       " (4, 'https://www.healthline.com/health/tick-bites', 'ticks', '\\xa0Tick can remain attached to the skin for up to 10 days after it first bites.', 'Prefer warm, moist areas of the body. Once a tick gets on your body, they’re likely to migrate to your armpits, groin, or hair.', 'Single'),\n",
       " (5, 'https://www.healthline.com/health/flea-bites', 'fleas', '\\xa0Small, red bumps in clusters of three or four or a straight line. The bumps remain small, unlike mosquito bites. You might notice a red “halo” around the bite center.', 'Common around the legs or ankles, around the waist, armpits, breasts, groin, or in the folds of the elbows and knees.', 'Multiple (in a line)'),\n",
       " (6, 'https://www.healthline.com/health/mosquito-bites', 'mosquitos', 'Round and puffy bump forming. In some cases, you may see a small dot at the center of it.', 'Any part of the body', 'Multiple')]"
      ]
     },
     "execution_count": 14,
     "metadata": {},
     "output_type": "execute_result"
    }
   ],
   "source": [
    "# checking that the table was made\n",
    "engine.execute(\"SELECT * FROM info\").fetchall()"
   ]
  },
  {
   "cell_type": "code",
   "execution_count": null,
   "metadata": {},
   "outputs": [],
   "source": []
  }
 ],
 "metadata": {
  "kernelspec": {
   "display_name": "Python 3",
   "language": "python",
   "name": "python3"
  },
  "language_info": {
   "codemirror_mode": {
    "name": "ipython",
    "version": 3
   },
   "file_extension": ".py",
   "mimetype": "text/x-python",
   "name": "python",
   "nbconvert_exporter": "python",
   "pygments_lexer": "ipython3",
   "version": "3.7.7"
  }
 },
 "nbformat": 4,
 "nbformat_minor": 4
}
