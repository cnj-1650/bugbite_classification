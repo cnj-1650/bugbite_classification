{
 "cells": [
  {
   "cell_type": "markdown",
   "metadata": {},
   "source": [
    "# Web Scrapping for images for bug bites\n",
    "\n",
    "## Potential sources for images\n",
    "* google images / bing images\n",
    "* news articles with images - might be more severe images\n",
    "* reddit bugbite subreddit?\n",
    "* flickr or shutterfly?\n",
    "* instagram tags?\n",
    "\n",
    "## Data to get\n",
    "* Images for each type\n",
    "* Record of different insect bites in each state\n",
    "* Seasonability of each insect bites\n"
   ]
  },
  {
   "cell_type": "markdown",
   "metadata": {},
   "source": [
    "# Using Selenium to get images off google images\n",
    "\n",
    "## Search terms used:\n",
    "* ant bites on human\n",
    "* spider bites on human\n",
    "* bullseye tick bite\n",
    "* chiggers\n",
    "\n",
    "* picadura de araña\n",
    "\n",
    "* skin rash\n",
    "\n",
    "## Also used links:\n",
    "* Fire ant similar image\n",
    "    * url = 'https://www.google.com/search?q=fire%20ant%20bites&tbm=isch&hl=en-US&hl=en-US&tbs=rimg%3ACRGHEvbGTv58ImDHlHaCXqWBAi0dlIBCIfbrVow55bhchgIDMYOJXaFp7ucrTxtebJyclatt5fVPrf5M4yj3raMclZtTVZAiOICYAb3kBYsvr6hCajDISk0ZT1WxXC_1QRCkOGkjzWCZbrlkqEgnHlHaCXqWBAhFb15LiWSVVMCoSCS0dlIBCIfbrEUl3fmOh7VXgKhIJVow55bhchgIRpg31loAwdDgqEgkDMYOJXaFp7hEH0nuBcfrtECoSCecrTxtebJycEdq7-vrtsH1mKhIJlatt5fVPrf4RaBDEq76t5RcqEglM4yj3raMclRHct_1FADKj7ByoSCZtTVZAiOICYEa7IvANoUO2DKhIJAb3kBYsvr6gR81SJDLnRR9YqEglCajDISk0ZTxFDH1zyXf_1L_1yoSCVWxXC_1QRCkOER2YTc3ZIakvKhIJGkjzWCZbrlkREN54eTGKcmJh9WmVnYJdXXc&ved=0CAIQrnZqFwoTCNi8iJqI1-kCFQAAAAAdAAAAABAG'\n",
    "\n",
    "* Brown Recluse spider similar image\n",
    "    * url: 'https://www.google.com/search?q=brown%20recluse%20spider%20bite&tbm=isch&tbs=rimg%3ACb9Wim8x27gFImBt4WAaBf6gFWx0K9BtpFyOQAJhfQQk3uwwtkWwbgumzkjhF9lpBH7bxvo4WHDFsaBcFgpfy4_1Cpd-2zYfxDMHCQJINaNoGNrTDfirS_1Iv9n8YEaLsgRoDngHLjkSqzUj4qEglt4WAaBf6gFREnv9rl3NhktCoSCWx0K9BtpFyOEbgjrWAGBS1XKhIJQAJhfQQk3uwR9_1mkzAero1IqEgkwtkWwbgumzhEGiQ87o5jx_1ioSCUjhF9lpBH7bEYceRYExnh0cKhIJxvo4WHDFsaAR89eA_1jISF6QqEglcFgpfy4_1CpRFzTBLz4SfxJCoSCd-2zYfxDMHCEe-iysYrRDv2KhIJQJINaNoGNrQR0zgsJFzUXp4qEgnDfirS_1Iv9nxEMEYFv-ReTdCoSCcYEaLsgRoDnEcFNCYG47oPqKhIJgHLjkSqzUj4RcRDq_11RqmqRhxjz6xwnlK_1Q&client=opera&hs=jM5&hl=en&ved=0CAIQrnZqFwoTCKi39I2P1-kCFQAAAAAdAAAAABAT&biw=1339&bih=702'\n",
    "    \n",
    "* Black Widow similar image\n",
    "    * url = 'https://www.google.com/search?q=black%20widow%20spider%20bite&tbm=isch&hl=en&hl=en&tbs=rimg%3ACbI7QWj-QN8GImBZdxgZkQJXM93kqcyjQGEcQ8reI86XAuaFYann_1OnLv1hbrVmZbGYtVb2baoNYlrp9mr5PyuBCrGeELdJyx4OZqlccOzOLjjl8x2YorMy5vQFuzHVSAYCA_1yvD06ojUfkqEglZdxgZkQJXMxFQXSA7PjvIXioSCd3kqcyjQGEcEQeDJFKyr-aRKhIJQ8reI86XAuYRWYOF07UU_18cqEgmFYann_1OnLvxFa70eaQjDJgCoSCVhbrVmZbGYtEeSQ6rMxtyreKhIJVb2baoNYlroRtb1D1eh4VM8qEgl9mr5PyuBCrBGKAuUYtfpZ6yoSCWeELdJyx4OZEaarJEYVki5yKhIJqlccOzOLjjkRoQXv0Ei-GOAqEgl8x2YorMy5vRE25YCCEnZ0GCoSCQFuzHVSAYCAEZJURB_1I27QrKhIJ_1yvD06ojUfkRzv-C3bApOEVheoAUnX77qvs&client=opera&hs=jM5&ved=0CAIQrnZqFwoTCLDPlsTb1-kCFQAAAAAdAAAAABAG&biw=1339&bih=702'\n",
    "    \n",
    "* Chiggers similar image\n",
    "    * url = 'https://www.google.com/search?q=chiggers&tbm=isch&tbs=rimg%3ACax7azwJKtntImCptdGdVZwfaukShrT65rNKG44E2sJ2lM6lfT5XcYLbpJHLUT2sy-3ExHnba5XQoMbHPxnym0L2Z--IquFBvi6KrlYpLd0NrfsB2ZGrPFc0IF8nR4ZvEHFqcuRRHPOgLZ4qEgmptdGdVZwfahHCZF4IV_1bZgyoSCekShrT65rNKESDuHpgYiIzjKhIJG44E2sJ2lM4RK92lm13fGSIqEgmlfT5XcYLbpBFrQxKGZLZK_1yoSCZHLUT2sy-3EEbn4muMHPX_1QKhIJxHnba5XQoMYRMbPVZYA1UVYqEgnHPxnym0L2ZxF4-4E2X585ZCoSCe-IquFBvi6KEQ7cDmolIyRtKhIJrlYpLd0NrfsRIbveEADjcAgqEgkB2ZGrPFc0IBENyVIHr-1jCCoSCV8nR4ZvEHFqEVM7wSz3ZCwOKhIJcuRRHPOgLZ4RR0Xk5wu7rYhhR0Xk5wu7rYg&hl=en&ved=0CAIQrnZqFwoTCJCK8LaH2ekCFQAAAAAdAAAAABAG&biw=1339&bih=702'\n",
    "    \n",
    "* goosebump smilar image\n",
    "    * url = 'https://www.google.com/search?q=arm%20skin&tbm=isch&hl=en&hl=en&safe=images&safe=images&tbs=rimg%3ACRTWdMToa03yImBS33djSxoPWpZAGrBB5e8XsylhQXBPLH9yzuCdShSM7qpuzVrTI-Ib0vjHWXDita4g1zospL4sP2hK2h5q8odRTQzqEtH5hOK5FAbKjtmFFoAFnNFXU2VNfdTDOpHZUnUqEglS33djSxoPWhGADnuhf1KijioSCZZAGrBB5e8XEfpwKNE6ElPaKhIJsylhQXBPLH8RXiTpd42JpJEqEglyzuCdShSM7hHbx6OM7iXrzSoSCapuzVrTI-IbEVJbWCH4wYJjKhIJ0vjHWXDita4RT2ya8PQtmvUqEgkg1zospL4sPxGCeY0c4acumCoSCWhK2h5q8odREaxLjFgRN2ulKhIJTQzqEtH5hOIRJo15f1KRd_1gqEgm5FAbKjtmFFhGsS4xYETdrpSoSCYAFnNFXU2VNEaxLjFgRN2ulKhIJfdTDOpHZUnURIW8-h6F4updhJpOBT_1swFXc&ved=0CAIQrnZqFwoTCNCEoaOU2ekCFQAAAAAdAAAAABAH&biw=1339&bih=702'\n",
    "    \n",
    "    \n",
    "* mosquito similar image\n",
    "    * url = 'https://www.google.com/search?q=蚊咬&tbm=isch&hl=en&hl=en&tbs=rimg%3ACUWnUX6ge3wqImBDwTaDN0jo6gkBwXOD2EnvQrbucKWV64T2yUuqhH0p8lVQFs5CAKhwaDOdfcAMUFY37gHf96w_1eckbEGlg-_14cB9aK3hGq59I8J9IDfSKpIjV0cRKkqdCpxrub1R4_1qT0qEglDwTaDN0jo6hECu_1SjlS73oioSCQkBwXOD2EnvEQyjFf8BorjeKhIJQrbucKWV64QRmLA2a6Ab0gMqEgn2yUuqhH0p8hGKbfcXZfoO3SoSCVVQFs5CAKhwEdSO8dnrKTuPKhIJaDOdfcAMUFYRLGXapmVPnKkqEgk37gHf96w_1eRGCuL71V33ZRSoSCckbEGlg-_14cEVYu-I79v738KhIJB9aK3hGq59IRBCYzEZUttNYqEgk8J9IDfSKpIhEZzYKzvn3CeioSCTV0cRKkqdCpEZYEuNNcbxe-KhIJxrub1R4_1qT0R573QJazKCwhh5f2QEffe-Vc&client=opera&hs=6aQ&ved=0CAIQrnZqFwoTCPjgx_D28ukCFQAAAAAdAAAAABAG&biw=1473&bih=772'\n",
    "    \n",
    "* fleas\n",
    "    * url = 'https://www.google.com/search?q=flea+bites+on+human&tbm=isch&ved=2ahUKEwjFi_HCl_XpAhWHBd8KHd_fBfoQ2-cCegQIABAA&oq=flea+bites+on+human&gs_lcp=CgNpbWcQAzIFCAAQsQMyAggAMgIIADICCAAyAggAMgIIADICCAAyAggAMgIIADICCAA6BwgAELEDEEM6BAgAEENQvrcBWKvCAWD-wwFoAHAAeACAAUiIAZQEkgEBOZgBAKABAaoBC2d3cy13aXotaW1n&sclient=img&ei=6rzfXsXuCoeL_Abfv5fQDw&bih=772&biw=1488&client=opera&hs=oR5"
   ]
  },
  {
   "cell_type": "code",
   "execution_count": 8,
   "metadata": {},
   "outputs": [
    {
     "name": "stdout",
     "output_type": "stream",
     "text": [
      "run imports...\n",
      "define program variables and open google images...\n",
      "start scrolling to generate more images on the page...\n",
      "start scraping ...\n",
      "0 pictures succesfully downloaded\n"
     ]
    }
   ],
   "source": [
    "# Resource:\n",
    "# https://gist.github.com/genekogan/ebd77196e4bf0705db51f86431099e57\n",
    "\n",
    "print(\"run imports...\")\n",
    "from selenium import webdriver\n",
    "from selenium.webdriver.common.keys import Keys\n",
    "import json\n",
    "import os\n",
    "import urllib3\n",
    "import argparse\n",
    "import urllib.request\n",
    "\n",
    "print(\"define program variables and open google images...\")\n",
    "searchterm = 'flea bites on human' # change to change search term\n",
    "\n",
    "# &tbs=itp:photo filter to only photos\n",
    "#url = \"https://www.google.co.in/search?q=\"+searchterm+\"&source=lnms&tbm=isch&tbs=itp:photo\"\n",
    "\n",
    "#url = 'https://www.google.com/search?q=arm%20skin&tbm=isch&hl=en&hl=en&safe=images&safe=images&tbs=rimg%3ACRTWdMToa03yImBS33djSxoPWpZAGrBB5e8XsylhQXBPLH9yzuCdShSM7qpuzVrTI-Ib0vjHWXDita4g1zospL4sP2hK2h5q8odRTQzqEtH5hOK5FAbKjtmFFoAFnNFXU2VNfdTDOpHZUnUqEglS33djSxoPWhGADnuhf1KijioSCZZAGrBB5e8XEfpwKNE6ElPaKhIJsylhQXBPLH8RXiTpd42JpJEqEglyzuCdShSM7hHbx6OM7iXrzSoSCapuzVrTI-IbEVJbWCH4wYJjKhIJ0vjHWXDita4RT2ya8PQtmvUqEgkg1zospL4sPxGCeY0c4acumCoSCWhK2h5q8odREaxLjFgRN2ulKhIJTQzqEtH5hOIRJo15f1KRd_1gqEgm5FAbKjtmFFhGsS4xYETdrpSoSCYAFnNFXU2VNEaxLjFgRN2ulKhIJfdTDOpHZUnURIW8-h6F4updhJpOBT_1swFXc&ved=0CAIQrnZqFwoTCNCEoaOU2ekCFQAAAAAdAAAAABAH&biw=1339&bih=702'\n",
    "\n",
    "browser = webdriver.Chrome('/home/eyan/Desktop/bug_bite/web_scraping/chromedriver')\n",
    "browser.get(url)\n",
    "header={'User-Agent':\"Chrome/83.0.4103.61\"}\n",
    "counter = 0\n",
    "succounter = 0\n",
    "\n",
    "print(\"start scrolling to generate more images on the page...\")\n",
    "# 500 time we scroll down by 10000 in order to generate more images on the website\n",
    "for _ in range(1000):\n",
    "    browser.execute_script(\"window.scrollBy(0,5000)\")\n",
    "\n",
    "print(\"start scraping ...\")\n",
    "for x in browser.find_elements_by_xpath('//img[contains(@class,\"rg_i Q4LuWd tx8vtf\")]'):\n",
    "    counter = counter + 1\n",
    "    print(\"Total Count:\", counter)\n",
    "    print(\"Succsessful Count:\", succounter)\n",
    "    print(\"URL:\", x.get_attribute('src'))\n",
    "\n",
    "    img = x.get_attribute('src')\n",
    "    new_filename = \"image\"+str(counter)+\".jpg\"\n",
    "\n",
    "    try:\n",
    "        path = '/home/eyan/Desktop/bug_bite/web_scraping/fleas' # name of the folder - needs to exist for it to run\n",
    "        path += new_filename\n",
    "        urllib.request.urlretrieve(img, path)\n",
    "        succounter += 1\n",
    "    except Exception as e:\n",
    "        print(e)\n",
    "\n",
    "print(succounter, \"pictures succesfully downloaded\")\n",
    "browser.close()"
   ]
  },
  {
   "cell_type": "markdown",
   "metadata": {},
   "source": [
    "# National Estimates of Noncanine Bite and Sting Injuries Treated in US Hospital Emergency Departments, 2001–2010\n",
    "\n",
    "* https://www.ncbi.nlm.nih.gov/pmc/articles/PMC4608679/\n",
    "* tables - copy and paste to excel and save as csv"
   ]
  },
  {
   "cell_type": "code",
   "execution_count": null,
   "metadata": {},
   "outputs": [],
   "source": []
  }
 ],
 "metadata": {
  "kernelspec": {
   "display_name": "Python 3",
   "language": "python",
   "name": "python3"
  },
  "language_info": {
   "codemirror_mode": {
    "name": "ipython",
    "version": 3
   },
   "file_extension": ".py",
   "mimetype": "text/x-python",
   "name": "python",
   "nbconvert_exporter": "python",
   "pygments_lexer": "ipython3",
   "version": "3.7.7"
  }
 },
 "nbformat": 4,
 "nbformat_minor": 4
}
