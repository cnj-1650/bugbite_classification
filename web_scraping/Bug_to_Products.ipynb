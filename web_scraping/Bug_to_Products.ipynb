{
 "cells": [
  {
   "cell_type": "code",
   "execution_count": 46,
   "metadata": {},
   "outputs": [],
   "source": [
    "import pandas as pd"
   ]
  },
  {
   "cell_type": "code",
   "execution_count": 47,
   "metadata": {},
   "outputs": [],
   "source": [
    "file_path = 'webpage_resources/others/bug_situation_products.csv'\n",
    "relief = pd.read_csv(file_path)"
   ]
  },
  {
   "cell_type": "code",
   "execution_count": 53,
   "metadata": {},
   "outputs": [
    {
     "data": {
      "text/html": [
       "<div>\n",
       "<style scoped>\n",
       "    .dataframe tbody tr th:only-of-type {\n",
       "        vertical-align: middle;\n",
       "    }\n",
       "\n",
       "    .dataframe tbody tr th {\n",
       "        vertical-align: top;\n",
       "    }\n",
       "\n",
       "    .dataframe thead th {\n",
       "        text-align: right;\n",
       "    }\n",
       "</style>\n",
       "<table border=\"1\" class=\"dataframe\">\n",
       "  <thead>\n",
       "    <tr style=\"text-align: right;\">\n",
       "      <th></th>\n",
       "      <th>bug</th>\n",
       "      <th>situation</th>\n",
       "      <th>category</th>\n",
       "    </tr>\n",
       "  </thead>\n",
       "  <tbody>\n",
       "    <tr>\n",
       "      <th>0</th>\n",
       "      <td>spiders</td>\n",
       "      <td>itching</td>\n",
       "      <td>benadryl</td>\n",
       "    </tr>\n",
       "    <tr>\n",
       "      <th>1</th>\n",
       "      <td>ants</td>\n",
       "      <td>general</td>\n",
       "      <td>aloe_vera</td>\n",
       "    </tr>\n",
       "    <tr>\n",
       "      <th>2</th>\n",
       "      <td>ants</td>\n",
       "      <td>general</td>\n",
       "      <td>ice_pack</td>\n",
       "    </tr>\n",
       "    <tr>\n",
       "      <th>3</th>\n",
       "      <td>ants</td>\n",
       "      <td>general</td>\n",
       "      <td>witch_hazel</td>\n",
       "    </tr>\n",
       "    <tr>\n",
       "      <th>4</th>\n",
       "      <td>bed_bugs</td>\n",
       "      <td>itching</td>\n",
       "      <td>benadryl</td>\n",
       "    </tr>\n",
       "    <tr>\n",
       "      <th>5</th>\n",
       "      <td>bed_bugs</td>\n",
       "      <td>pain</td>\n",
       "      <td>pain reliever</td>\n",
       "    </tr>\n",
       "    <tr>\n",
       "      <th>6</th>\n",
       "      <td>spiders</td>\n",
       "      <td>blisters</td>\n",
       "      <td>antibiotic_ointment</td>\n",
       "    </tr>\n",
       "    <tr>\n",
       "      <th>7</th>\n",
       "      <td>chiggers</td>\n",
       "      <td>welts</td>\n",
       "      <td>antiseptic</td>\n",
       "    </tr>\n",
       "    <tr>\n",
       "      <th>8</th>\n",
       "      <td>spiders</td>\n",
       "      <td>general</td>\n",
       "      <td>ice_pack</td>\n",
       "    </tr>\n",
       "    <tr>\n",
       "      <th>9</th>\n",
       "      <td>chiggers</td>\n",
       "      <td>general</td>\n",
       "      <td>calamine_lotion</td>\n",
       "    </tr>\n",
       "    <tr>\n",
       "      <th>10</th>\n",
       "      <td>chiggers</td>\n",
       "      <td>general</td>\n",
       "      <td>anti_itch_cream</td>\n",
       "    </tr>\n",
       "    <tr>\n",
       "      <th>11</th>\n",
       "      <td>bed_bugs</td>\n",
       "      <td>general</td>\n",
       "      <td>anti_itch_cream</td>\n",
       "    </tr>\n",
       "    <tr>\n",
       "      <th>12</th>\n",
       "      <td>bed_bugs</td>\n",
       "      <td>general</td>\n",
       "      <td>calamine_lotion</td>\n",
       "    </tr>\n",
       "    <tr>\n",
       "      <th>13</th>\n",
       "      <td>bed_bugs</td>\n",
       "      <td>general</td>\n",
       "      <td>ice_pack</td>\n",
       "    </tr>\n",
       "    <tr>\n",
       "      <th>14</th>\n",
       "      <td>bed_bugs</td>\n",
       "      <td>swelling</td>\n",
       "      <td>pain reliever</td>\n",
       "    </tr>\n",
       "    <tr>\n",
       "      <th>15</th>\n",
       "      <td>bed_bugs</td>\n",
       "      <td>burning</td>\n",
       "      <td>benadryl</td>\n",
       "    </tr>\n",
       "  </tbody>\n",
       "</table>\n",
       "</div>"
      ],
      "text/plain": [
       "         bug situation             category\n",
       "0    spiders   itching             benadryl\n",
       "1       ants   general            aloe_vera\n",
       "2       ants   general             ice_pack\n",
       "3       ants   general          witch_hazel\n",
       "4   bed_bugs   itching             benadryl\n",
       "5   bed_bugs      pain        pain reliever\n",
       "6    spiders  blisters  antibiotic_ointment\n",
       "7   chiggers     welts           antiseptic\n",
       "8    spiders   general             ice_pack\n",
       "9   chiggers   general      calamine_lotion\n",
       "10  chiggers   general      anti_itch_cream\n",
       "11  bed_bugs   general      anti_itch_cream\n",
       "12  bed_bugs   general      calamine_lotion\n",
       "13  bed_bugs   general             ice_pack\n",
       "14  bed_bugs  swelling        pain reliever\n",
       "15  bed_bugs   burning             benadryl"
      ]
     },
     "execution_count": 53,
     "metadata": {},
     "output_type": "execute_result"
    }
   ],
   "source": [
    "relief"
   ]
  },
  {
   "cell_type": "code",
   "execution_count": 48,
   "metadata": {},
   "outputs": [],
   "source": [
    "from sqlalchemy import create_engine\n",
    "\n",
    "# save a sqlite file called bugbite\n",
    "engine = create_engine('sqlite:///bugbite.sqlite', echo=False)"
   ]
  },
  {
   "cell_type": "code",
   "execution_count": 49,
   "metadata": {},
   "outputs": [],
   "source": [
    "# convert dataframe to sql, labeling the index as id\n",
    "relief.to_sql('bug_category',con=engine,if_exists='replace',index_label='id')"
   ]
  },
  {
   "cell_type": "code",
   "execution_count": 50,
   "metadata": {},
   "outputs": [
    {
     "data": {
      "text/plain": [
       "[(0, 'spiders', 'itching', 'benadryl'),\n",
       " (1, 'ants', 'general', 'aloe_vera'),\n",
       " (2, 'ants', 'general', 'ice_pack'),\n",
       " (3, 'ants', 'general', 'witch_hazel'),\n",
       " (4, 'bed_bugs', 'itching', 'benadryl'),\n",
       " (5, 'bed_bugs', 'pain', 'pain reliever'),\n",
       " (6, 'spiders', 'blisters', 'antibiotic_ointment'),\n",
       " (7, 'chiggers', 'welts', 'antiseptic'),\n",
       " (8, 'spiders', 'general', 'ice_pack'),\n",
       " (9, 'chiggers', 'general', 'calamine_lotion'),\n",
       " (10, 'chiggers', 'general', 'anti_itch_cream'),\n",
       " (11, 'bed_bugs', 'general', 'anti_itch_cream'),\n",
       " (12, 'bed_bugs', 'general', 'calamine_lotion'),\n",
       " (13, 'bed_bugs', 'general', 'ice_pack'),\n",
       " (14, 'bed_bugs', 'swelling', 'pain reliever'),\n",
       " (15, 'bed_bugs', 'burning', 'benadryl')]"
      ]
     },
     "execution_count": 50,
     "metadata": {},
     "output_type": "execute_result"
    }
   ],
   "source": [
    "# checking that the table was made\n",
    "engine.execute(\"SELECT * FROM bug_category\").fetchall()"
   ]
  },
  {
   "cell_type": "code",
   "execution_count": 51,
   "metadata": {},
   "outputs": [
    {
     "data": {
      "text/plain": [
       "[(0, '(3 pack) Equate After Sun Soothing Gel with Aloe, 20 oz', '$11.19', 'https://i5.walmartimages.com/asr/7e972725-bb08-4f99-98f6-5df2d6fb451b_1.30347479e6c24b0258435dbf51662cf6.jpeg?odnHeight=200&odnWidth=200&odnBg=ffffff', 'https://www.walmart.com/ip/3-pack-Equate-After-Sun-Soothing-Gel-with-Aloe-20-oz/870151635', 'aloe_vera'),\n",
       " (1, '(2 Pack) Fruit Of The Earth Aloe Vera Gel - 12 oz', '$7.62', 'https://i5.walmartimages.com/asr/37b50bf1-c291-4b53-b61e-d502f157d581_1.77c27335dfdf7ae56a6549af33952c34.jpeg?odnHeight=200&odnWidth=200&odnBg=ffffff', 'https://www.walmart.com/ip/2-Pack-Fruit-Of-The-Earth-Aloe-Vera-Gel-12-oz/892848134', 'aloe_vera'),\n",
       " (2, 'Artnaturals Aloe Vera Gel Organic (1 Gallon x 128 Fl Oz) Pure Cold Pressed Aloe Plant for Face, Hair &amp; Body', '$39.99', 'https://i5.walmartimages.com/asr/53563ddf-c3f8-4015-873d-58c5d6a1dbfc_1.3c42d71736fe14ab5c764e90bae6ccc8.jpeg?odnHeight=200&odnWidth=200&odnBg=ffffff', 'https://www.walmart.com/ip/Artnaturals-Aloe-Vera-Gel-Organic-1-Gallon-x-128-Fl-Oz-Pure-Cold-Pressed-Aloe-Plant-for-Face-Hair-Body/428320373', 'aloe_vera'),\n",
       " (3, 'Fruit Of The Earth Aloe Vera 100 % Gel, 12 oz', '$14.95', 'https://i5.walmartimages.com/asr/1b771d62-cac2-4c42-894d-59e1ede1db8a_1.9a51fcda185df6b6501f90ceb449ede1.jpeg?odnHeight=200&odnWidth=200&odnBg=ffffff', 'https://www.walmart.com/ip/Fruit-Of-The-Earth-Aloe-Vera-100-Gel-12-oz/493171941', 'aloe_vera'),\n",
       " (4, 'Organic Aloe Vera Gel  Natural Cold Pressed   Organic Aloe for Healthy Skin Hair and After Sun Relief  Made from Aloe Vera Juice Straight from the Plant [8oz Size]', '$14.99', 'https://i5.walmartimages.com/asr/0481d67c-6f9e-4052-9dbb-5d97b5856f83_1.ed9504b2d92abae22f83a44fb585d4ec.jpeg?odnHeight=200&odnWidth=200&odnBg=ffffff', 'https://www.walmart.com/ip/Pressed-8oz-Juice-Natural-Made-Plant-Vera-Healthy-Relief-Size-Hair-Cold-Organic-Sun-Gel-After-Skin-Aloe-Straight/923365598', 'aloe_vera'),\n",
       " (5, 'Bare Republic Hydrating After-Sun Aloe &amp; Seaweed Spray Mist, No Rub Application, Lightweight &amp; Non-Sticky, 6 OZ', '$12.99', 'https://i5.walmartimages.com/asr/4d980aa1-f679-4227-bc8d-0919fe256c16_1.eb8ee069c5bc7a5d9a0d04d0667c4cc2.jpeg?odnHeight=200&odnWidth=200&odnBg=ffffff', 'https://www.walmart.com/ip/Bare-Republic-Hydrating-After-Sun-Aloe-Seaweed-Spray-Mist-No-Rub-Application-Lightweight-Non-Sticky-6-OZ/722583707?wpa_bd= ... (223 characters truncated) ... tRviqenbn2Pn5hH_pmFpDKzklxGZ7R06HMw_PzvutgEcxFvKSYet36H1sSQ&wpa_tag=__tag__&wpa_aux_info=__aux_info__&wpa_pos=6&wpa_plmt=__plmt__&wpa_aduid=__aduid__', 'aloe_vera'),\n",
       " (6, '(2 pack) Banana Boat Soothing Aloe After Sun Gel - 8 Ounces', '$12.82', 'https://i5.walmartimages.com/asr/a5dd4a2b-c122-4a4d-9e1f-5dcb2242efa1_1.e2beaeaf3f757e5369624ccbf0cc3abe.jpeg?odnHeight=200&odnWidth=200&odnBg=ffffff', 'https://www.walmart.com/ip/2-pack-Banana-Boat-Soothing-Aloe-After-Sun-Gel-8-Ounces/435552698', 'aloe_vera'),\n",
       " (7, 'Jason Soothing 98% Aloe Vera Moisturizing Gel 4 Ounce', '$4.69', 'https://i5.walmartimages.com/asr/71f63753-3252-4f44-9ab6-d1fb7079eb06_1.01bc97518efdb71ba03226a321e441d7.jpeg?odnHeight=200&odnWidth=200&odnBg=ffffff', 'https://www.walmart.com/ip/Jason-Soothing-98-Aloe-Vera-Moisturizing-Gel-4-Ounce/26965316', 'aloe_vera'),\n",
       " (8, 'Fruit of the Earth Aloe Vera 100% Gel 6 oz Gel', '$7.99', 'https://i5.walmartimages.com/asr/afed6c1f-e0ac-4c83-8152-039baa507f38_1.59e8752f22a29dd70d41943a0041e43e.jpeg?odnHeight=200&odnWidth=200&odnBg=ffffff', 'https://www.walmart.com/ip/Fruit-of-the-Earth-Aloe-Vera-100-Gel-6-oz-Gel/10813592', 'aloe_vera'),\n",
       " (9, 'Equate After Sun Sunburn Relief Gel with Aloe, 20 oz', '$2.87', 'https://i5.walmartimages.com/asr/1fd8639f-f734-4ced-9895-60c1d53869d6_1.0dddb6fe33ad8cfc55cbd4c571b490bd.jpeg?odnHeight=200&odnWidth=200&odnBg=ffffff', 'https://www.walmart.com/ip/Equate-After-Sun-Sunburn-Relief-Gel-with-Aloe-20-oz/453708652', 'aloe_vera'),\n",
       " (0, 'Equate Triple Antibiotic First Aid Ointment, 2 oz, 2 Pack', '$3.98', 'https://i5.walmartimages.com/asr/d0267548-ea54-4fd9-8aad-83c97bd82d8a_1.9fe85efc86ee44844c608f1f586f21d4.jpeg?odnHeight=200&odnWidth=200&odnBg=ffffff', 'https://www.walmart.com/ip/Equate-Triple-Antibiotic-First-Aid-Ointment-2-oz-2-Pack/20659621', 'antibiotic_ointment'),\n",
       " (1, 'Neosporin Original Antibiotic Ointment to Prevent Infection, 1 oz', '$6.97', 'https://i5.walmartimages.com/asr/07196232-1a24-4f2b-9d1d-90c81f98d738_1.9cde8b13c1201b620fc8afcda7f3700b.jpeg?odnHeight=200&odnWidth=200&odnBg=ffffff', 'https://www.walmart.com/ip/Neosporin-Original-Antibiotic-Ointment-to-Prevent-Infection-1-oz/10294303', 'antibiotic_ointment'),\n",
       " (2, 'Equate Maximum Strength Antibiotic Cream + Pain Relief, 1 oz, 2 Pack', '$3.55', 'https://i5.walmartimages.com/asr/8df343bb-5ce8-481a-bcb4-8669ab768ccf_1.945a07c3fc0a4d43358418fad9aae155.jpeg?odnHeight=200&odnWidth=200&odnBg=ffffff', 'https://www.walmart.com/ip/Equate-Maximum-Strength-Antibiotic-Cream-Pain-Relief-1-oz-2-Pack/394618625', 'antibiotic_ointment'),\n",
       " (3, 'Neosporin Pain, Itch, Scar Antibiotic Ointment with Bacitracin, 1.0 oz', '$6.97', 'https://i5.walmartimages.com/asr/e3434c95-088a-4d1a-948b-dbe4ac7a2102_1.267954b077419774de8a9f9fecbf9dd0.jpeg?odnHeight=200&odnWidth=200&odnBg=ffffff', 'https://www.walmart.com/ip/Neosporin-Pain-Itch-Scar-Antibiotic-Ointment-with-Bacitracin-1-0-oz/175071556', 'antibiotic_ointment'),\n",
       " (4, 'Simply Neosporin First Aid Antibiotic Ointment, 0.5oz', '$4.97', 'https://i5.walmartimages.com/asr/a324fcb8-5e60-4d56-9bd9-9e9f5e3f9b38_1.6f89358e08f1f79d432860ec02a24474.jpeg?odnHeight=200&odnWidth=200&odnBg=ffffff', 'https://www.walmart.com/ip/Simply-Neosporin-First-Aid-Antibiotic-Ointment-0-5oz/345111512', 'antibiotic_ointment'),\n",
       " (5, 'Equate Triple Antibiotic Pain + Scar Ointment for Minor Cuts, Scrapes, and Burns, 1 oz', '$3.98', 'https://i5.walmartimages.com/asr/e8b7b79c-3306-410b-b4fe-58ca39438fdf_1.d177a30573509158d0fad42a3875d6c2.jpeg?odnHeight=200&odnWidth=200&odnBg=ffffff', 'https://www.walmart.com/ip/Equate-Triple-Antibiotic-Pain-Scar-Ointment-for-Minor-Cuts-Scrapes-and-Burns-1-oz/197791819', 'antibiotic_ointment'),\n",
       " (6, 'Neosporin + Pain Relief Dual Action Cream, 1 Oz', '$4.92', 'https://i5.walmartimages.com/asr/daa76452-2f65-459b-a027-7a9cf0d2b891_1.5ca049701856db90bec7afbca55f9aff.jpeg?odnHeight=200&odnWidth=200&odnBg=ffffff', 'https://www.walmart.com/ip/Neosporin-Pain-Relief-Dual-Action-Cream-1-Oz/42087741', 'antibiotic_ointment'),\n",
       " (7, 'First Honey Manuka Ointment .5oz', '$6.94', 'https://i5.walmartimages.com/asr/cb315344-8dd1-4b60-a77d-ed9762103a28_1.921dca363e26db4ad796482ee9a91275.png?odnHeight=200&odnWidth=200&odnBg=ffffff', 'https://www.walmart.com/ip/First-Honey-Manuka-Ointment-5oz/287936692', 'antibiotic_ointment'),\n",
       " (8, 'Neosporin + Pain Relief Dual Action Topical Antibiotic Ointment, 1 oz', '$4.97', 'https://i5.walmartimages.com/asr/4514e61d-2576-47f4-a409-e3b283abc85e_1.9e64846246225bda5d1ce243c03fb292.jpeg?odnHeight=200&odnWidth=200&odnBg=ffffff', 'https://www.walmart.com/ip/Neosporin-Pain-Relief-Dual-Action-Topical-Antibiotic-Ointment-1-oz/893383', 'antibiotic_ointment'),\n",
       " (9, 'Neosporin Original First Aid Antibiotic Ointment with Bacitracin, Zinc For 24-hour Infection Protection, Wound Care Treatment and the Scar appearance minimizer for Minor Cuts, Scrapes and Burns,.5 oz', '$6.54', 'https://i5.walmartimages.com/asr/e7116d16-137a-404f-80b2-436d34f75deb_1.7c30f9e6920896b48660717378bf862b.jpeg?odnHeight=200&odnWidth=200&odnBg=ffffff', 'https://www.walmart.com/ip/Neosporin-Scar-Wound-24-hour-Scrapes-First-Cuts-Aid-Burns-5-minimizer-Bacitracin-For-Protection-Ointment-oz-Zinc-Care-Infection-Antibiotic-Treatment-/1111801', 'antibiotic_ointment'),\n",
       " (0, 'Equate 1% Hydrocortisone Anti-Itch Cream with Soothing Aloe, Maximum Strength, Twin Pack, 4 oz', '$6.98', 'https://i5.walmartimages.com/asr/67a13a93-27b3-423b-8c7e-fcd082e05267_1.6083144004b6e43deb615d724d8be424.jpeg?odnHeight=200&odnWidth=200&odnBg=ffffff', 'https://www.walmart.com/ip/Equate-1-Hydrocortisone-Anti-Itch-Cream-with-Soothing-Aloe-Maximum-Strength-Twin-Pack-4-oz/20659620', 'anti-itch cream'),\n",
       " (1, 'Cortizone 10 Intensive Healing Anti-Itch Crme 2oz, Value Size', '$7.28', 'https://i5.walmartimages.com/asr/0dbbe5a2-6f98-4458-a0a2-77f1d63f0bb7_1.5170250d7540195766a13761b889441c.jpeg?odnHeight=200&odnWidth=200&odnBg=ffffff', 'https://www.walmart.com/ip/Cortizone-10-Intensive-Healing-Anti-Itch-Cr-me-2oz-Value-Size/39264308', 'anti-itch cream'),\n",
       " (2, 'Cortizone 10 Anti-Itch Crme with Aloe 1oz', '$4.24', 'https://i5.walmartimages.com/asr/32cef816-1e03-4a1a-8ab9-ab67ebef6c37_1.f930952f9648b233292fddb1d1460d0a.png?odnHeight=200&odnWidth=200&odnBg=ffffff', 'https://www.walmart.com/ip/Cortizone-10-Anti-Itch-Cr-me-with-Aloe-1oz/10307668?wpa_bd=&wpa_pg_seller_id=F55CDC31AB754BB68FE0B39041159D63&wpa_ref_id=w ... (202 characters truncated) ... 1uDw_eY-wsLzHQIj_CQ66hv3Eb1hSLft4UaPCiBkssVa3ZHT7yThMcy7eKQ&wpa_tag=__tag__&wpa_aux_info=__aux_info__&wpa_pos=3&wpa_plmt=__plmt__&wpa_aduid=__aduid__', 'anti-itch cream'),\n",
       " (3, 'Equate Hydrocortisone 1% Anti-itch Cream with Aloe, temporarily relieves itching, 2 Oz', '$4.52', 'https://i5.walmartimages.com/asr/6e2ab847-cd1b-4797-acdb-6c1d216922f0_1.609dae876992ed1e67b4c76178da17b2.jpeg?odnHeight=200&odnWidth=200&odnBg=ffffff', 'https://www.walmart.com/ip/Equate-Hydrocortisone-1-Anti-itch-Cream-with-Aloe-temporarily-relieves-itching-2-Oz/23736260', 'anti-itch cream'),\n",
       " (4, 'Cortizone 10 Intensive Healing Anti-Itch Crme 1oz', '$4.52', 'https://i5.walmartimages.com/asr/f5ad9972-fd13-473c-b8fd-af31434f1af0_1.fa8a50e25f40376e8df3edc11e5d4d54.jpeg?odnHeight=200&odnWidth=200&odnBg=ffffff', 'https://www.walmart.com/ip/Cortizone-10-Intensive-Healing-Anti-Itch-Cr-me-1oz/10307667?wpa_bd=&wpa_pg_seller_id=F55CDC31AB754BB68FE0B39041159D63&wpa_ ... (210 characters truncated) ... 1uDw_eY-wsLzHQIj_CQ66hv3Eb1hSLft4UaPCiBkssVa3ZHT7yThMcy7eKQ&wpa_tag=__tag__&wpa_aux_info=__aux_info__&wpa_pos=5&wpa_plmt=__plmt__&wpa_aduid=__aduid__', 'anti-itch cream'),\n",
       " (5, 'Gold Bond Medicated Pain and Itch Relief Cream with Lidocaine 1.75oz', '$6.74', 'https://i5.walmartimages.com/asr/bd31faeb-59ec-4a74-8aee-967659959ba9_1.02e5a341d8af95c2236e2ae476216277.jpeg?odnHeight=200&odnWidth=200&odnBg=ffffff', 'https://www.walmart.com/ip/Gold-Bond-Medicated-Pain-and-Itch-Relief-Cream-with-Lidocaine-1-75oz/51501766', 'anti-itch cream'),\n",
       " (6, 'Aveeno Maximum Strength 1% Hydrocortisone Anti-Itch Cream', '$4.97', 'https://i5.walmartimages.com/asr/7e2a0e3c-45e1-4ae0-a5f6-ee5f0f5b570c_1.233d3575a60d13d949b842af6ae47ac3.jpeg?odnHeight=200&odnWidth=200&odnBg=ffffff', 'https://www.walmart.com/ip/Aveeno-Maximum-Strength-1-Hydrocortisone-Anti-Itch-Cream/10293807', 'anti-itch cream'),\n",
       " (7, 'Cortizone 10 Plus Ultra Moisturizing Anti-Itch Creme 1oz', '$4.52', 'https://i5.walmartimages.com/asr/baee7c22-4ab4-43fe-9ed6-eb758885bc43_1.2af0422ccd05ef60647fb23d2eeee8bb.jpeg?odnHeight=200&odnWidth=200&odnBg=ffffff', 'https://www.walmart.com/ip/Cortizone-10-Plus-Ultra-Moisturizing-Anti-Itch-Creme-1oz/10307679', 'anti-itch cream'),\n",
       " (8, 'Benadryl Extra Strength Cooling Relief Anti-Itch Gel, 3.5 fl. oz', '$5.42', 'https://i5.walmartimages.com/asr/44d0fd48-55e1-43a7-8279-321ce05bb478_1.f41332c0c34acdcb2810f384c9867f4e.jpeg?odnHeight=200&odnWidth=200&odnBg=ffffff', 'https://www.walmart.com/ip/Benadryl-Extra-Strength-Cooling-Relief-Anti-Itch-Gel-3-5-fl-oz/35756723', 'anti-itch cream'),\n",
       " (9, 'Gold Bond Anti-Itch Lotion 5.5oz', '$8.56', 'https://i5.walmartimages.com/asr/9056c180-6dce-4339-b396-e01112d08601_1.74735ba8ff43fa27019cbc93b5aef64c.jpeg?odnHeight=200&odnWidth=200&odnBg=ffffff', 'https://www.walmart.com/ip/Gold-Bond-Anti-Itch-Lotion-5-5oz/12166538', 'anti-itch cream'),\n",
       " (0, 'Benadryl Extra Strength Cooling Relief Anti-Itch Gel, 3.5 fl. oz', '$5.42', 'https://i5.walmartimages.com/asr/44d0fd48-55e1-43a7-8279-321ce05bb478_1.f41332c0c34acdcb2810f384c9867f4e.jpeg?odnHeight=200&odnWidth=200&odnBg=ffffff', 'https://www.walmart.com/ip/Benadryl-Extra-Strength-Cooling-Relief-Anti-Itch-Gel-3-5-fl-oz/35756723', 'benadryl'),\n",
       " (1, 'Benadryl Extra Strength Itch Relief Stick, Travel Size,.47 fl. oz', '$2.34', 'https://i5.walmartimages.com/asr/7cb9ec05-ec48-438e-8a52-3b4d7242fab0_1.10c4fe9846831996010f001105fc8a95.jpeg?odnHeight=200&odnWidth=200&odnBg=ffffff', 'https://www.walmart.com/ip/Benadryl-Extra-Strength-Itch-Relief-Stick-Travel-Size-47-fl-oz/10294030', 'benadryl'),\n",
       " (2, 'Benadryl Anti-Itch Camphor Cooling Gel for Kids, Travel Size, 3 oz', '$4.48', 'https://i5.walmartimages.com/asr/946e0357-fc79-4dad-9cbd-abdcad76b611.23c0410ff164ede431f137b05a16a75e.jpeg?odnHeight=200&odnWidth=200&odnBg=ffffff', 'https://www.walmart.com/ip/Benadryl-Anti-Itch-Camphor-Cooling-Gel-for-Kids-Travel-Size-3-oz/12167271?wpa_bd=&wpa_pg_seller_id=F55CDC31AB754BB68FE0B39 ... (182 characters truncated) ... euFMHxY0TblJ-IOPO4lfN35PktuyBmRbKBg9YlNjY_3WoYkVJIUxhnI3EXQ&wpa_tag=__tag__&wpa_aux_info=__aux_info__&wpa_pos=3&wpa_plmt=__plmt__&wpa_aduid=__aduid__', 'benadryl'),\n",
       " (3, 'Benadryl Extra Strength Itch Relief Cream, Topical Analgesic, 1 oz', '$7.29', 'https://i5.walmartimages.com/asr/1a1e970b-705e-4ac6-b304-b31d5391a7c8_1.1e05653092b9fc4e1ce3636df21c14a6.jpeg?odnHeight=200&odnWidth=200&odnBg=ffffff', 'https://www.walmart.com/ip/Benadryl-Extra-Strength-Itch-Relief-Cream-Topical-Analgesic-1-oz/893379', 'benadryl'),\n",
       " (4, 'Benadryl Itch Relief Gel, Extra Strength, 3.5 Ounce', '$9.85', 'https://i5.walmartimages.com/asr/70588b70-99b5-40d7-93e7-80f38634f2c0_1.a109610f6c2ebab36762b4ce54b5bd52.jpeg?odnHeight=200&odnWidth=200&odnBg=ffffff', 'https://www.walmart.com/ip/Benadryl-Itch-Relief-Gel-Extra-Strength-3-5-Ounce/392337839', 'benadryl'),\n",
       " (5, 'Benadryl Original Strength Itch Relief Cream, Topical Analgesic, 1 oz', '$6.83', 'https://i5.walmartimages.com/asr/44103667-6875-436e-b776-cf3d6402ef0d_1.65737eb7090c77f7aa9709f0319524eb.jpeg?odnHeight=200&odnWidth=200&odnBg=ffffff', 'https://www.walmart.com/ip/Benadryl-Original-Strength-Itch-Relief-Cream-Topical-Analgesic-1-oz/10294032', 'benadryl'),\n",
       " (6, '2 Pack - Benadryl Itch Stopping Cream Extra Strength 1 oz', '$13.00', 'https://i5.walmartimages.com/asr/c4a404b5-bef1-4030-98d3-8e3553a7b942_1.c2acb223d577088b7cbae5efc89ae34f.jpeg?odnHeight=200&odnWidth=200&odnBg=ffffff', 'https://www.walmart.com/ip/2-Pack-Benadryl-Itch-Stopping-Cream-Extra-Strength-1-oz/541650500', 'benadryl'),\n",
       " (7, '5 Pack - Benadryl Itch Relief Stick 0.47 oz (14 ml) Each', '$15.69', 'https://i5.walmartimages.com/asr/522063d7-714b-45b9-b994-5f97eac6e423_1.7bc788c026e25aba18492a9a11e1242c.jpeg?odnHeight=200&odnWidth=200&odnBg=ffffff', 'https://www.walmart.com/ip/5-Pack-Benadryl-Itch-Relief-Stick-0-47-oz-14-ml-Each/132966390', 'benadryl'),\n",
       " (8, '2 Pack - Benadryl Itch Relief Cooling Spray Extra Strength 2oz Each', '$15.55', 'https://i5.walmartimages.com/asr/e3d68040-2ebd-4691-8f2b-fc2adbfaafca_1.a5f103902dfc3a367617ba08c654f9b2.jpeg?odnHeight=200&odnWidth=200&odnBg=ffffff', 'https://www.walmart.com/ip/2-Pack-Benadryl-Itch-Relief-Cooling-Spray-Extra-Strength-2oz-Each/185335298', 'benadryl'),\n",
       " (9, 'Benadryl Itch Relief Cooling Spray Extra Strength 2oz Each', '$9.84', 'https://i5.walmartimages.com/asr/c5f6c6a4-9b2f-4558-9c36-3ab3c6f8e9db_1.a5f103902dfc3a367617ba08c654f9b2.jpeg?odnHeight=200&odnWidth=200&odnBg=ffffff', 'https://www.walmart.com/ip/Benadryl-Itch-Relief-Cooling-Spray-Extra-Strength-2oz-Each/811968471', 'benadryl'),\n",
       " (10, 'Gold Bond Medicated Pain and Itch Relief Cream with Lidocaine 1.75oz', '$6.74', 'https://i5.walmartimages.com/asr/bd31faeb-59ec-4a74-8aee-967659959ba9_1.02e5a341d8af95c2236e2ae476216277.jpeg?odnHeight=180&odnWidth=180&odnBg=ffffff', 'https://www.walmart.com/ip/Gold-Bond-Medicated-Pain-and-Itch-Relief-Cream-with-Lidocaine-1-75oz/51501766', 'benadryl'),\n",
       " (11, 'CeraVe Itch Relief Moisturizing Lotion, 8 Fl. Oz.', '$14.88', 'https://i5.walmartimages.com/asr/b35871f3-5b90-46bc-803b-eabd56e512c8_1.166f70dce04b08c84904802feb1e9376.jpeg?odnHeight=180&odnWidth=180&odnBg=ffffff', 'https://www.walmart.com/ip/CeraVe-Itch-Relief-Moisturizing-Lotion-8-Fl-Oz/517297425', 'benadryl'),\n",
       " (12, 'After Bite Kids, Sensitive Formula, Pharmacist Preferred Insect Bite &amp; Sting Treatment, Natural Healing, Aloe Vera, Skin Protectant, Portable Instant Relief, Stop Itching Cream, 0.7-ounce', '$3.47', 'https://i5.walmartimages.com/asr/5c36d729-596b-4aa8-b3a6-27246114ab80_1.205cb8b2c80f4f8fbf2b01153a89abbe.jpeg?odnHeight=180&odnWidth=180&odnBg=ffffff', 'https://www.walmart.com/ip/Cream-Healing-Formula-Vera-Stop-Sting-Bite-0-7-ounce-Natural-Itching-Treatment-Sensitive-Insect-Relief-Protectant-Instant-Kids-Preferred-Portable-Aft/35785583', 'benadryl'),\n",
       " (13, 'Cortizone 10 Easy Relief Applicator Anti-Itch Liquid 1.25oz', '$4.52', 'https://i5.walmartimages.com/asr/abcc98e2-63ba-4d48-92a9-e92886e9959e_1.6048071ba7678ac8c521eb59320ef96f.jpeg?odnHeight=180&odnWidth=180&odnBg=ffffff', 'https://www.walmart.com/ip/Cortizone-10-Easy-Relief-Applicator-Anti-Itch-Liquid-1-25oz/12166535', 'benadryl'),\n",
       " (14, 'Monistat Care Instant Itch Relief Spray, Cools &amp; Soothes, Maximum Strength, 2 OZ', '$7.66', 'https://i5.walmartimages.com/asr/5b40f45f-8ae4-4698-8699-3b4b332d6291_1.ea8dc9477eeeca4c094e4b489625a110.jpeg?odnHeight=180&odnWidth=180&odnBg=ffffff', 'https://www.walmart.com/ip/Monistat-Care-Instant-Itch-Relief-Spray-Cools-Soothes-Maximum-Strength-2-OZ/967028909', 'benadryl'),\n",
       " (15, 'Cortizone 10 Feminine Relief Anti-Itch Crme 1oz', '$4.52', 'https://i5.walmartimages.com/asr/718e78e8-06bd-4ebd-aa42-cb9b5f2bba99_1.344374e69258b339b1fb4f43900412c6.jpeg?odnHeight=180&odnWidth=180&odnBg=ffffff', 'https://www.walmart.com/ip/Cortizone-10-Feminine-Relief-Anti-Itch-Cr-me-1oz/35880063', 'benadryl'),\n",
       " (16, 'Rash Relief Medicated Anti-Itch Spray, 6 fl oz', '$12.22', 'https://i5.walmartimages.com/asr/d5f08f1c-dd3d-43a0-963f-cf6ec5500176_1.b594d5b81f527b4f334121bbefc7711a.jpeg?odnHeight=180&odnWidth=180&odnBg=ffffff', 'https://www.walmart.com/ip/Rash-Relief-Medicated-Anti-Itch-Spray-6-fl-oz/38192976', 'benadryl'),\n",
       " (17, 'PREPARATION H Rapid Relief with Lidocaine Hemorrhoid Symptom Treatment Cream, Numbing Relief for Pain, Burning and Itching, Reduces Swelling, Tube (0.75 Ounce)', '$18.88', 'https://i5.walmartimages.com/asr/4f4817f4-b95a-43c8-b196-c786ed4b2a7e.908d97a642c38797b4ed0ed24cfa3f0f.jpeg?odnHeight=180&odnWidth=180&odnBg=ffffff', 'https://www.walmart.com/ip/Cream-Pain-Tube-H-Ounce-Rapid-0-75-Burning-Treatment-Swelling-Itching-Hemorrhoid-PREPARATION-Lidocaine-Symptom-Numbing-Reduces-Relief/568782844', 'benadryl'),\n",
       " (18, 'Gold Bond Medicated Rapid Relief Anti-Itch Cream 1oz', '$3.78', 'https://i5.walmartimages.com/asr/b8f7aea3-18d5-4257-8c78-245f7c0bee82_1.b4066b4379919b57a03b660c49be37b2.jpeg?odnHeight=180&odnWidth=180&odnBg=ffffff', 'https://www.walmart.com/ip/Gold-Bond-Medicated-Rapid-Relief-Anti-Itch-Cream-1oz/10307690', 'benadryl'),\n",
       " (19, 'CeraVe Itch Relief Moisturizing Cream for Dry Skin, 12.0 OZ', '$19.97', 'https://i5.walmartimages.com/asr/f14a136c-5ba9-48c0-a7d2-39a1c4644d40_1.e59fc09f02643b49acd0bbf8d033a34b.jpeg?odnHeight=180&odnWidth=180&odnBg=ffffff', 'https://www.walmart.com/ip/CeraVe-Itch-Relief-Moisturizing-Cream-for-Dry-Skin-12-0-OZ/269950339', 'benadryl'),\n",
       " (0, 'Caladryl Skin Protectant Lotion, Calamine + Itch Reliever, 6 fl oz.', '$5.47', 'https://i5.walmartimages.com/asr/9402c463-86ce-42fa-98b7-70e18e22ff6c_1.1f6c87c912715ecfe64c08fc47d05433.jpeg?odnHeight=200&odnWidth=200&odnBg=ffffff', 'https://www.walmart.com/ip/Caladryl-Skin-Protectant-Lotion-Calamine-Itch-Reliever-6-fl-oz/46024172', 'calamine lotion'),\n",
       " (1, 'Equate Calamine Clear Lotion, 6 Oz', '$2.98', 'https://i5.walmartimages.com/asr/a44afbf5-ddf0-4d5a-89f6-457099edc7ce_1.baca5e7f82ffc9edf15317c239811c62.jpeg?odnHeight=200&odnWidth=200&odnBg=ffffff', 'https://www.walmart.com/ip/Equate-Calamine-Clear-Lotion-6-Oz/595611425', 'calamine lotion'),\n",
       " (2, 'Equate No-Rub Calamine Plus Spray, 4.1 oz', '$3.97', 'https://i5.walmartimages.com/asr/52eb05b8-4fe1-410e-a602-954dd008b5e3_1.b8d497ad1ff5870082461b05d8f4c3d1.jpeg?odnHeight=200&odnWidth=200&odnBg=ffffff', 'https://www.walmart.com/ip/Equate-No-Rub-Calamine-Plus-Spray-4-1-oz/23788429', 'calamine lotion'),\n",
       " (3, 'Caladryl Clear Skin Protectant Lotion - 6 OZ', '$9.79', 'https://i5.walmartimages.com/asr/d5d3c908-08e9-4ffc-a7ef-7fb784886c22_1.6f9ec329ee76f73f1ebc02ebff25bc45.jpeg?odnHeight=200&odnWidth=200&odnBg=ffffff', 'https://www.walmart.com/ip/Caladryl-Clear-Skin-Protectant-Lotion-6-OZ/130995887', 'calamine lotion'),\n",
       " (4, 'Major Calamine Itch Relief 8% / 8% Strength Lotion 177 mL Bottle, 1 Each', '$6.79', 'https://i5.walmartimages.com/asr/5a4deddd-0255-4c24-85b2-7900c2212094_1.f6de0c6f582109fceeb2c75ea7e8cdb0.jpeg?odnHeight=200&odnWidth=200&odnBg=ffffff', 'https://www.walmart.com/ip/Major-Calamine-Itch-Relief-8-8-Strength-Lotion-177-mL-Bottle-1-Each/560321241', 'calamine lotion'),\n",
       " (5, 'Humco Calamine Lotion USP 6 oz', '$8.00', 'https://i5.walmartimages.com/asr/a44e4f00-b2b5-4f0d-8827-5d841eeefe8b_1.a44988b9d10a85d08ca7f32f1de86e3c.jpeg?odnHeight=200&odnWidth=200&odnBg=ffffff', 'https://www.walmart.com/ip/Humco-Calamine-Lotion-USP-6-oz/655243144', 'calamine lotion'),\n",
       " (6, 'Sunmark Calamine Lotion, 6 Fl. Oz.', '$6.76', 'https://i5.walmartimages.com/asr/7a9e20cf-e4e8-48d0-82de-48711b424e80_1.a5e60b465bf324610a8c36dc0e64d4a7.jpeg?odnHeight=200&odnWidth=200&odnBg=ffffff', 'https://www.walmart.com/ip/Sunmark-Calamine-Lotion-6-Fl-Oz/173312282', 'calamine lotion'),\n",
       " (7, 'Caladryl Calamine Plus Itch Reliever Topical Analgesic Skin Lotion 6 oz, 1 Pack', '$10.20', 'https://i5.walmartimages.com/asr/3d8a5b94-50bb-42e3-b37b-db381b79a01d_1.43fa9b3709b4def5d18fe0d0b2dd1eaa.jpeg?odnHeight=200&odnWidth=200&odnBg=ffffff', 'https://www.walmart.com/ip/Caladryl-Calamine-Plus-Itch-Reliever-Topical-Analgesic-Skin-Lotion-6-oz-1-Pack/188782073', 'calamine lotion'),\n",
       " (8, 'Major Calamine Lotion, Pink, 6 Fl. Oz.', '$7.14', 'https://i5.walmartimages.com/asr/4212c709-b0d0-4314-8dc3-8689ff0f9a28_1.e453638df2f97bb68e8307b29ca9e89f.jpeg?odnHeight=200&odnWidth=200&odnBg=ffffff', 'https://www.walmart.com/ip/Major-Calamine-Lotion-Pink-6-Fl-Oz/147396927', 'calamine lotion'),\n",
       " (9, 'Caladryl Skin Protectant Calamine Lotion 6 oz Each', '$9.72', 'https://i5.walmartimages.com/asr/f9636370-9c10-41cc-aed4-e082db133790_1.49c7b10aafe1cb4a580a15cf2ba0f95e.jpeg?odnHeight=200&odnWidth=200&odnBg=ffffff', 'https://www.walmart.com/ip/Caladryl-Skin-Protectant-Calamine-Lotion-6-oz-Each/438692735', 'calamine lotion'),\n",
       " (0, \"Dickinson's Witch Hazel Cleansing Astringent, 16 Fl Oz\", '$3.64', 'https://i5.walmartimages.com/asr/39f95177-a1ea-4346-a007-7239d75c46eb_1.9c21042997c491669388c27bba36ab22.jpeg?odnHeight=200&odnWidth=200&odnBg=ffffff', 'https://www.walmart.com/ip/Dickinson-s-Witch-Hazel-Cleansing-Astringent-16-Fl-Oz/10321470', 'witch_hazel'),\n",
       " (1, \"Dickinson's Original Witch Hazel Pore Perfecting Toner, 16 fl oz\", '$4.68', 'https://i5.walmartimages.com/asr/d74dafd5-dbb1-4246-a1b2-40f177999385_1.4cb8c0fd40931235f9a2ff3d672b5eb0.jpeg?odnHeight=200&odnWidth=200&odnBg=ffffff', 'https://www.walmart.com/ip/Dickinson-s-Original-Witch-Hazel-Pore-Perfecting-Toner-16-fl-oz/20463901', 'witch_hazel'),\n",
       " (2, 'Neutrogena Alcohol-Free Facial Toner, Hypoallergenic, 8.5 fl. Oz', '$5.98', 'https://i5.walmartimages.com/asr/c11ced7e-afdf-483e-abeb-dd24fb4a3193.dc2e36754198cfd33a8e4b2038ec510f.jpeg?odnHeight=200&odnWidth=200&odnBg=ffffff', 'https://www.walmart.com/ip/Neutrogena-Alcohol-Free-Facial-Toner-Hypoallergenic-8-5-fl-Oz/10849661?wpa_bd=&wpa_pg_seller_id=F55CDC31AB754BB68FE0B39041 ... (179 characters truncated) ... aGQbFob8__Wn96V4qRaV7f5Zv6ex5PtOUfm0GlNjY_3WoYkVJIUxhnI3EXQ&wpa_tag=__tag__&wpa_aux_info=__aux_info__&wpa_pos=3&wpa_plmt=__plmt__&wpa_aduid=__aduid__', 'witch_hazel'),\n",
       " (3, \"Dickinson's Enhanced Witch Hazel Astringent Deep Cleansing, 16.0 FL OZ\", '$6.57', 'https://i5.walmartimages.com/asr/0e8c4c0c-54c6-4d5f-bdaa-2da386e668e3_1.a869bfe0209fb77bb8a3c9a0e2054206.jpeg?odnHeight=200&odnWidth=200&odnBg=ffffff', 'https://www.walmart.com/ip/Dickinson-s-Enhanced-Witch-Hazel-Astringent-Deep-Cleansing-16-0-FL-OZ/44796828', 'witch_hazel'),\n",
       " (4, 'Neutrogena Pore Refining Facial Toner with Witch Hazel, 8.5 fl. oz', '$6.54', 'https://i5.walmartimages.com/asr/c72dfd4b-5cd7-45c2-b055-52a89cdbc01a.104f61e99cf189ebc36c81914d5d8db6.jpeg?odnHeight=200&odnWidth=200&odnBg=ffffff', 'https://www.walmart.com/ip/Neutrogena-Pore-Refining-Facial-Toner-with-Witch-Hazel-8-5-fl-oz/876613?wpa_bd=&wpa_pg_seller_id=F55CDC31AB754BB68FE0B3904 ... (180 characters truncated) ... h2oOFXG-Dqyz2Y_3xRJ9_fgUCQLMW7EKWv3TXk0ned34jBJaowZ-VyKQp5g&wpa_tag=__tag__&wpa_aux_info=__aux_info__&wpa_pos=5&wpa_plmt=__plmt__&wpa_aduid=__aduid__', 'witch_hazel'),\n",
       " (5, 'Olay Cleanse Witch Hazel Face Toner for Women, 7.2 oz', '$4.38', 'https://i5.walmartimages.com/asr/1e61c9e1-51e5-4040-a6bf-5abad9d15f6f_1.800ef1e0bac651f02ade8f008788eb83.jpeg?odnHeight=200&odnWidth=200&odnBg=ffffff', 'https://www.walmart.com/ip/Olay-Cleanse-Witch-Hazel-Face-Toner-for-Women-7-2-oz/19529369', 'witch_hazel'),\n",
       " (6, \"Dickinson's Enhanced Witch Hazel Hydrating Toner with Rosewater, 16 fl oz\", '$5.97', 'https://i5.walmartimages.com/asr/cb05ea30-6cd8-42cd-addc-8be99a479c5a_1.964b4d5a2c73498bec9e44dfb3c3916a.jpeg?odnHeight=200&odnWidth=200&odnBg=ffffff', 'https://www.walmart.com/ip/Dickinson-s-Enhanced-Witch-Hazel-Hydrating-Toner-with-Rosewater-16-fl-oz/44796827', 'witch_hazel'),\n",
       " (7, \"Dickinson's Original Witch Hazel Pore Perfecting Toner 16 fl oz (Pack of 2)\", '$9.84', 'https://i5.walmartimages.com/asr/f4d81dac-476f-4ecf-949d-40980a3e09ee_1.132b4e1cd7beebf8d5e1fed9a4f26872.jpeg?odnHeight=200&odnWidth=200&odnBg=ffffff', 'https://www.walmart.com/ip/Dickinson-apos-s-Original-Witch-Hazel-Pore-Perfecting-Toner-16-fl-oz-Pack-of-2/568932167', 'witch_hazel'),\n",
       " (8, \"Humphrey's Witch Hazel Astringent 8 fl oz bottle\", '$7.96', 'https://i5.walmartimages.com/asr/adc02747-4494-4f6e-ae18-c5b85ebaff66_1.4eea72fcaa6afc478fbbbeeaa00e19b1.jpeg?odnHeight=200&odnWidth=200&odnBg=ffffff', 'https://www.walmart.com/ip/Humphrey-s-Witch-Hazel-Astringent-8-fl-oz-bottle/757002952', 'witch_hazel'),\n",
       " (9, 'Thayers Witch Hazel Aloe Vera Astringent, Original, 12 fl oz', '$16.00', 'https://i5.walmartimages.com/asr/c4eac820-9686-404b-924a-8f980833bba2_1.1bf9dfc8174e104d0a8ddf7d02210cc5.jpeg?odnHeight=200&odnWidth=200&odnBg=ffffff', 'https://www.walmart.com/ip/Thayers-Witch-Hazel-Aloe-Vera-Astringent-Original-12-fl-oz/26971632', 'witch_hazel'),\n",
       " (0, 'ACE Brand Reusable Cold Compress, Large, Soft, 7.75\" x 11.87\", 1/Pack', '$8.86', 'https://i5.walmartimages.com/asr/4074bc3d-7b5c-4ae1-a21c-49a5bca0e739_1.80ec6a883069d4a0b650662bfbb2280a.jpeg?odnHeight=200&odnWidth=200&odnBg=ffffff', 'https://www.walmart.com/ip/ACE-Brand-Reusable-Cold-Compress-Large-Soft-7-75-x-11-87-1-Pack/23554624', 'ice_pack'),\n",
       " (1, 'Ace Large Reusable Cold Compress, 1 Each (Quantity)', '$9.13', 'https://i5.walmartimages.com/asr/5cf0fe40-eae2-424a-a86b-f8ef029361d6_1.495fabfe04095b286c06c34df17643f1.jpeg?odnHeight=200&odnWidth=200&odnBg=ffffff', 'https://www.walmart.com/ip/Ace-Large-Reusable-Cold-Compress-1-Each-Quantity/10532766', 'ice_pack'),\n",
       " (2, 'ACE Reusable Cold Compress, Small, Helps Relieve Pain caused by Sprains and Muscle Aches, Blue 1/Pack', '$4.17', 'https://i5.walmartimages.com/asr/a5406453-2a5c-4676-9efb-7beeb5222042_1.346585c353a2d6999ce66f8ded49b609.jpeg?odnHeight=200&odnWidth=200&odnBg=ffffff', 'https://www.walmart.com/ip/ACE-Reusable-Cold-Compress-Small-Helps-Relieve-Pain-caused-by-Sprains-and-Muscle-Aches-Blue-1-Pack/21854461', 'ice_pack'),\n",
       " (3, 'Gel Cold &amp; Hot Pack (2 Pack) 11x14 in. Reusable Warm or Ice Packs for Injuries, Hip, Shoulder, Knee, Back Pain  Hot &amp; Cold Compress for Swelling, Bruises, Surgery  Heat &amp; Cold Therapy', '$28.95', 'https://i5.walmartimages.com/asr/8c498049-e90b-4d06-8a46-64951f924727_1.37a913336ab520609d142f650dc1e604.jpeg?odnHeight=200&odnWidth=200&odnBg=ffffff', 'https://www.walmart.com/ip/Therapy-2-Pack-Warm-Packs-Pain-Reusable-Surgery-Bruises-Back-Pack-Compress-Cold-in-Shoulder-Ice-Hot-Gel-Injuries-11x14-Heat-Swelling-Knee-Hip/774805754', 'ice_pack'),\n",
       " (4, 'The Coldest Ice Pack Gel Reusable Flexible Therapy Best For Back Pain Leg Arm Knee Shoulder Sciatic Nerve Recovery Medical Grade X-Large Big Compress 15\" x 12\" by The Coldest Water', '$24.99', 'https://i5.walmartimages.com/asr/259448f7-98ae-4e43-ae3c-3f91dd6850cf_1.89c189328324a98b03472927e95b358a.jpeg?odnHeight=200&odnWidth=200&odnBg=ffffff', 'https://www.walmart.com/ip/Knee-Water-Therapy-Sciatic-Recovery-Coldest-The-Nerve-Pain-Reusable-Shoulder-Back-Best-Pack-Compress-Big-12-For-Ice-Grade-X-Large-Gel-Leg-Flexible-x-/180226263', 'ice_pack'),\n",
       " (5, '4 Reusable Ice Pack Cold Gel Compress Non Toxic Freeze Therapy Pain Food Camping', '$19.83', 'https://i5.walmartimages.com/asr/c51b6266-b8f9-4dba-9a78-d60799167bf8_1.717c585df01b5397f1c784efd42433d0.jpeg?odnHeight=200&odnWidth=200&odnBg=ffffff', 'https://www.walmart.com/ip/4-Reusable-Ice-Pack-Cold-Gel-Compress-Non-Toxic-Freeze-Therapy-Pain-Food-Camping/173872124', 'ice_pack'),\n",
       " (6, 'The Coldest Ice Pack Gel Reusable - Hot + Cold Therapy - Flexible Compress Best for Back Pain Hip Shoulder Neck Ankle Sprain Recovery, Muscle Injury Medical Grade', '$23.99', 'https://i5.walmartimages.com/asr/ac8fcb66-f9b0-47a1-b9f1-fbf5d333088f_1.9eae5f0ff1d349a8b2c65e42e13a7ea1.jpeg?odnHeight=200&odnWidth=200&odnBg=ffffff', 'https://www.walmart.com/ip/Therapy-Injury-Coldest-The-Sprain-Pain-Reusable-Shoulder-Back-Muscle-Best-Neck-Pack-Compress-Cold-Ice-Grade-Hot-Hip-Gel-Ankle-Flexible-Recovery-Medic/685386761', 'ice_pack'),\n",
       " (7, 'Gel Cold &amp; Hot Pack Wrap – 11x14 in. Reusable Warm or Ice Pack for Injuries, Hip, Shoulder, Knee, Back Pain – Hot &amp; Cold Compress for Swelling, Bruises, Surgery - Heat &amp; Cold Therapy(1 Pack)', '$24.95', 'https://i5.walmartimages.com/asr/6fae4727-edad-458f-90f1-383f1067929a_1.5efb85796267c8a80f78dba16537022c.jpeg?odnHeight=200&odnWidth=200&odnBg=ffffff', 'https://www.walmart.com/ip/Wrap-Pack-Therapy-1-Warm-Pain-Reusable-Surgery-Bruises-Back-Pack-Compress-Cold-in-Shoulder-Ice-Hot-Gel-Injuries-11x14-Heat-Swelling-Knee-Hip/354347051', 'ice_pack'),\n",
       " (8, 'DMI Ice Kold Instant Ice Compresses, Junior, White, 4-3/4 Inch X 6-1/2 Inch (50 Packs)', '$31.01', 'https://i5.walmartimages.com/asr/8fd8f14e-0beb-4174-9f67-26bae72218c3_2.38746487d6d78b9aa836e86d39b7a11d.jpeg?odnHeight=200&odnWidth=200&odnBg=ffffff', 'https://www.walmart.com/ip/DMI-Ice-Kold-Instant-Ice-Compresses-Junior-White-4-3-4-Inch-X-6-1-2-Inch-50-Packs/706873865', 'ice_pack'),\n",
       " (9, 'Equate Instant Cold Compress, 1 Count', '$2.98', 'https://i5.walmartimages.com/asr/de5acefe-f7ae-46b7-aa7c-7b46ee406806_1.0a93439dff4f306cddb2dba8b85c72cb.jpeg?odnHeight=200&odnWidth=200&odnBg=ffffff', 'https://www.walmart.com/ip/Equate-Instant-Cold-Compress-1-Count/370947897', 'ice_pack'),\n",
       " (0, 'ACE Brand Reusable Cold Compress, Large, Soft, 7.75\" x 11.87\", 1/Pack', '$8.86', 'https://i5.walmartimages.com/asr/4074bc3d-7b5c-4ae1-a21c-49a5bca0e739_1.80ec6a883069d4a0b650662bfbb2280a.jpeg?odnHeight=200&odnWidth=200&odnBg=ffffff', 'https://www.walmart.com/ip/ACE-Brand-Reusable-Cold-Compress-Large-Soft-7-75-x-11-87-1-Pack/23554624', 'ice_pack'),\n",
       " (1, 'Ace Large Reusable Cold Compress, 1 Each (Quantity)', '$9.13', 'https://i5.walmartimages.com/asr/5cf0fe40-eae2-424a-a86b-f8ef029361d6_1.495fabfe04095b286c06c34df17643f1.jpeg?odnHeight=200&odnWidth=200&odnBg=ffffff', 'https://www.walmart.com/ip/Ace-Large-Reusable-Cold-Compress-1-Each-Quantity/10532766', 'ice_pack'),\n",
       " (2, 'ACE Reusable Cold Compress, Small, Helps Relieve Pain caused by Sprains and Muscle Aches, Blue 1/Pack', '$4.17', 'https://i5.walmartimages.com/asr/a5406453-2a5c-4676-9efb-7beeb5222042_1.346585c353a2d6999ce66f8ded49b609.jpeg?odnHeight=200&odnWidth=200&odnBg=ffffff', 'https://www.walmart.com/ip/ACE-Reusable-Cold-Compress-Small-Helps-Relieve-Pain-caused-by-Sprains-and-Muscle-Aches-Blue-1-Pack/21854461', 'ice_pack'),\n",
       " (3, 'Gel Cold &amp; Hot Pack (2 Pack) 11x14 in. Reusable Warm or Ice Packs for Injuries, Hip, Shoulder, Knee, Back Pain  Hot &amp; Cold Compress for Swelling, Bruises, Surgery  Heat &amp; Cold Therapy', '$28.95', 'https://i5.walmartimages.com/asr/8c498049-e90b-4d06-8a46-64951f924727_1.37a913336ab520609d142f650dc1e604.jpeg?odnHeight=200&odnWidth=200&odnBg=ffffff', 'https://www.walmart.com/ip/Therapy-2-Pack-Warm-Packs-Pain-Reusable-Surgery-Bruises-Back-Pack-Compress-Cold-in-Shoulder-Ice-Hot-Gel-Injuries-11x14-Heat-Swelling-Knee-Hip/774805754', 'ice_pack'),\n",
       " (4, 'The Coldest Ice Pack Gel Reusable Flexible Therapy Best For Back Pain Leg Arm Knee Shoulder Sciatic Nerve Recovery Medical Grade X-Large Big Compress 15\" x 12\" by The Coldest Water', '$24.99', 'https://i5.walmartimages.com/asr/259448f7-98ae-4e43-ae3c-3f91dd6850cf_1.89c189328324a98b03472927e95b358a.jpeg?odnHeight=200&odnWidth=200&odnBg=ffffff', 'https://www.walmart.com/ip/Knee-Water-Therapy-Sciatic-Recovery-Coldest-The-Nerve-Pain-Reusable-Shoulder-Back-Best-Pack-Compress-Big-12-For-Ice-Grade-X-Large-Gel-Leg-Flexible-x-/180226263', 'ice_pack'),\n",
       " (5, '4 Reusable Ice Pack Cold Gel Compress Non Toxic Freeze Therapy Pain Food Camping', '$19.83', 'https://i5.walmartimages.com/asr/c51b6266-b8f9-4dba-9a78-d60799167bf8_1.717c585df01b5397f1c784efd42433d0.jpeg?odnHeight=200&odnWidth=200&odnBg=ffffff', 'https://www.walmart.com/ip/4-Reusable-Ice-Pack-Cold-Gel-Compress-Non-Toxic-Freeze-Therapy-Pain-Food-Camping/173872124', 'ice_pack'),\n",
       " (6, 'The Coldest Ice Pack Gel Reusable - Hot + Cold Therapy - Flexible Compress Best for Back Pain Hip Shoulder Neck Ankle Sprain Recovery, Muscle Injury Medical Grade', '$23.99', 'https://i5.walmartimages.com/asr/ac8fcb66-f9b0-47a1-b9f1-fbf5d333088f_1.9eae5f0ff1d349a8b2c65e42e13a7ea1.jpeg?odnHeight=200&odnWidth=200&odnBg=ffffff', 'https://www.walmart.com/ip/Therapy-Injury-Coldest-The-Sprain-Pain-Reusable-Shoulder-Back-Muscle-Best-Neck-Pack-Compress-Cold-Ice-Grade-Hot-Hip-Gel-Ankle-Flexible-Recovery-Medic/685386761', 'ice_pack'),\n",
       " (7, 'Gel Cold &amp; Hot Pack Wrap – 11x14 in. Reusable Warm or Ice Pack for Injuries, Hip, Shoulder, Knee, Back Pain – Hot &amp; Cold Compress for Swelling, Bruises, Surgery - Heat &amp; Cold Therapy(1 Pack)', '$24.95', 'https://i5.walmartimages.com/asr/6fae4727-edad-458f-90f1-383f1067929a_1.5efb85796267c8a80f78dba16537022c.jpeg?odnHeight=200&odnWidth=200&odnBg=ffffff', 'https://www.walmart.com/ip/Wrap-Pack-Therapy-1-Warm-Pain-Reusable-Surgery-Bruises-Back-Pack-Compress-Cold-in-Shoulder-Ice-Hot-Gel-Injuries-11x14-Heat-Swelling-Knee-Hip/354347051', 'ice_pack'),\n",
       " (8, 'DMI Ice Kold Instant Ice Compresses, Junior, White, 4-3/4 Inch X 6-1/2 Inch (50 Packs)', '$31.01', 'https://i5.walmartimages.com/asr/8fd8f14e-0beb-4174-9f67-26bae72218c3_2.38746487d6d78b9aa836e86d39b7a11d.jpeg?odnHeight=200&odnWidth=200&odnBg=ffffff', 'https://www.walmart.com/ip/DMI-Ice-Kold-Instant-Ice-Compresses-Junior-White-4-3-4-Inch-X-6-1-2-Inch-50-Packs/706873865', 'ice_pack'),\n",
       " (9, 'Equate Instant Cold Compress, 1 Count', '$2.98', 'https://i5.walmartimages.com/asr/de5acefe-f7ae-46b7-aa7c-7b46ee406806_1.0a93439dff4f306cddb2dba8b85c72cb.jpeg?odnHeight=200&odnWidth=200&odnBg=ffffff', 'https://www.walmart.com/ip/Equate-Instant-Cold-Compress-1-Count/370947897', 'ice_pack')]"
      ]
     },
     "execution_count": 51,
     "metadata": {},
     "output_type": "execute_result"
    }
   ],
   "source": [
    "# checking that the table was made\n",
    "engine.execute(\"SELECT * FROM products\").fetchall()"
   ]
  },
  {
   "cell_type": "code",
   "execution_count": 56,
   "metadata": {},
   "outputs": [],
   "source": [
    "categories = engine.execute('SELECT category FROM bug_category WHERE bug= ?',('spiders',)).fetchall()\n",
    "            "
   ]
  },
  {
   "cell_type": "code",
   "execution_count": 98,
   "metadata": {},
   "outputs": [
    {
     "name": "stdout",
     "output_type": "stream",
     "text": [
      "3\n",
      "[(0, 'Benadryl Extra Strength Cooling Relief Anti-Itch Gel, 3.5 fl. oz', '$5.42', 'https://i5.walmartimages.com/asr/44d0fd48-55e1-43a7-8279-321ce05bb478_1.f41332c0c34acdcb2810f384c9867f4e.jpeg?odnHeight=200&odnWidth=200&odnBg=ffffff', 'https://www.walmart.com/ip/Benadryl-Extra-Strength-Cooling-Relief-Anti-Itch-Gel-3-5-fl-oz/35756723', 'benadryl'), (1, 'Benadryl Extra Strength Itch Relief Stick, Travel Size,.47 fl. oz', '$2.34', 'https://i5.walmartimages.com/asr/7cb9ec05-ec48-438e-8a52-3b4d7242fab0_1.10c4fe9846831996010f001105fc8a95.jpeg?odnHeight=200&odnWidth=200&odnBg=ffffff', 'https://www.walmart.com/ip/Benadryl-Extra-Strength-Itch-Relief-Stick-Travel-Size-47-fl-oz/10294030', 'benadryl'), (2, 'Benadryl Anti-Itch Camphor Cooling Gel for Kids, Travel Size, 3 oz', '$4.48', 'https://i5.walmartimages.com/asr/946e0357-fc79-4dad-9cbd-abdcad76b611.23c0410ff164ede431f137b05a16a75e.jpeg?odnHeight=200&odnWidth=200&odnBg=ffffff', 'https://www.walmart.com/ip/Benadryl-Anti-Itch-Camphor-Cooling-Gel-for-Kids-Travel-Size-3-oz/12167271?wpa_bd=&wpa_pg_seller_id=F55CDC31AB754BB68FE0B39 ... (182 characters truncated) ... euFMHxY0TblJ-IOPO4lfN35PktuyBmRbKBg9YlNjY_3WoYkVJIUxhnI3EXQ&wpa_tag=__tag__&wpa_aux_info=__aux_info__&wpa_pos=3&wpa_plmt=__plmt__&wpa_aduid=__aduid__', 'benadryl')]\n",
      "\n",
      "\n",
      "[(0, 'Benadryl Extra Strength Cooling Relief Anti-Itch Gel, 3.5 fl. oz', '$5.42', 'https://i5.walmartimages.com/asr/44d0fd48-55e1-43a7-8279-321ce05bb478_1.f41332c0c34acdcb2810f384c9867f4e.jpeg?odnHeight=200&odnWidth=200&odnBg=ffffff', 'https://www.walmart.com/ip/Benadryl-Extra-Strength-Cooling-Relief-Anti-Itch-Gel-3-5-fl-oz/35756723', 'benadryl'), (1, 'Benadryl Extra Strength Itch Relief Stick, Travel Size,.47 fl. oz', '$2.34', 'https://i5.walmartimages.com/asr/7cb9ec05-ec48-438e-8a52-3b4d7242fab0_1.10c4fe9846831996010f001105fc8a95.jpeg?odnHeight=200&odnWidth=200&odnBg=ffffff', 'https://www.walmart.com/ip/Benadryl-Extra-Strength-Itch-Relief-Stick-Travel-Size-47-fl-oz/10294030', 'benadryl'), (2, 'Benadryl Anti-Itch Camphor Cooling Gel for Kids, Travel Size, 3 oz', '$4.48', 'https://i5.walmartimages.com/asr/946e0357-fc79-4dad-9cbd-abdcad76b611.23c0410ff164ede431f137b05a16a75e.jpeg?odnHeight=200&odnWidth=200&odnBg=ffffff', 'https://www.walmart.com/ip/Benadryl-Anti-Itch-Camphor-Cooling-Gel-for-Kids-Travel-Size-3-oz/12167271?wpa_bd=&wpa_pg_seller_id=F55CDC31AB754BB68FE0B39 ... (182 characters truncated) ... euFMHxY0TblJ-IOPO4lfN35PktuyBmRbKBg9YlNjY_3WoYkVJIUxhnI3EXQ&wpa_tag=__tag__&wpa_aux_info=__aux_info__&wpa_pos=3&wpa_plmt=__plmt__&wpa_aduid=__aduid__', 'benadryl')]\n",
      "\n",
      "\n",
      "[(0, 'Equate Triple Antibiotic First Aid Ointment, 2 oz, 2 Pack', '$3.98', 'https://i5.walmartimages.com/asr/d0267548-ea54-4fd9-8aad-83c97bd82d8a_1.9fe85efc86ee44844c608f1f586f21d4.jpeg?odnHeight=200&odnWidth=200&odnBg=ffffff', 'https://www.walmart.com/ip/Equate-Triple-Antibiotic-First-Aid-Ointment-2-oz-2-Pack/20659621', 'antibiotic_ointment'), (1, 'Neosporin Original Antibiotic Ointment to Prevent Infection, 1 oz', '$6.97', 'https://i5.walmartimages.com/asr/07196232-1a24-4f2b-9d1d-90c81f98d738_1.9cde8b13c1201b620fc8afcda7f3700b.jpeg?odnHeight=200&odnWidth=200&odnBg=ffffff', 'https://www.walmart.com/ip/Neosporin-Original-Antibiotic-Ointment-to-Prevent-Infection-1-oz/10294303', 'antibiotic_ointment'), (2, 'Equate Maximum Strength Antibiotic Cream + Pain Relief, 1 oz, 2 Pack', '$3.55', 'https://i5.walmartimages.com/asr/8df343bb-5ce8-481a-bcb4-8669ab768ccf_1.945a07c3fc0a4d43358418fad9aae155.jpeg?odnHeight=200&odnWidth=200&odnBg=ffffff', 'https://www.walmart.com/ip/Equate-Maximum-Strength-Antibiotic-Cream-Pain-Relief-1-oz-2-Pack/394618625', 'antibiotic_ointment')]\n",
      "\n",
      "\n",
      "[(0, 'ACE Brand Reusable Cold Compress, Large, Soft, 7.75\" x 11.87\", 1/Pack', '$8.86', 'https://i5.walmartimages.com/asr/4074bc3d-7b5c-4ae1-a21c-49a5bca0e739_1.80ec6a883069d4a0b650662bfbb2280a.jpeg?odnHeight=200&odnWidth=200&odnBg=ffffff', 'https://www.walmart.com/ip/ACE-Brand-Reusable-Cold-Compress-Large-Soft-7-75-x-11-87-1-Pack/23554624', 'ice_pack'), (1, 'Ace Large Reusable Cold Compress, 1 Each (Quantity)', '$9.13', 'https://i5.walmartimages.com/asr/5cf0fe40-eae2-424a-a86b-f8ef029361d6_1.495fabfe04095b286c06c34df17643f1.jpeg?odnHeight=200&odnWidth=200&odnBg=ffffff', 'https://www.walmart.com/ip/Ace-Large-Reusable-Cold-Compress-1-Each-Quantity/10532766', 'ice_pack'), (2, 'ACE Reusable Cold Compress, Small, Helps Relieve Pain caused by Sprains and Muscle Aches, Blue 1/Pack', '$4.17', 'https://i5.walmartimages.com/asr/a5406453-2a5c-4676-9efb-7beeb5222042_1.346585c353a2d6999ce66f8ded49b609.jpeg?odnHeight=200&odnWidth=200&odnBg=ffffff', 'https://www.walmart.com/ip/ACE-Reusable-Cold-Compress-Small-Helps-Relieve-Pain-caused-by-Sprains-and-Muscle-Aches-Blue-1-Pack/21854461', 'ice_pack')]\n",
      "\n",
      "\n"
     ]
    }
   ],
   "source": [
    "product = engine.execute('SELECT * FROM products WHERE category = ? LIMIT 3',(categories[0][0],)).fetchall()\n",
    "print(len(product))\n",
    "print(product)\n",
    "print('\\n')\n",
    "for category in categories:\n",
    "    # print(category[0])\n",
    "    product2 = engine.execute('SELECT * FROM products WHERE category = ? LIMIT 3',(category[0],)).fetchall()\n",
    "    print(product2)\n",
    "    print('\\n')\n",
    "    product.extend(product2)"
   ]
  },
  {
   "cell_type": "code",
   "execution_count": 99,
   "metadata": {},
   "outputs": [
    {
     "name": "stdout",
     "output_type": "stream",
     "text": [
      "[(0, 'Benadryl Extra Strength Cooling Relief Anti-Itch Gel, 3.5 fl. oz', '$5.42', 'https://i5.walmartimages.com/asr/44d0fd48-55e1-43a7-8279-321ce05bb478_1.f41332c0c34acdcb2810f384c9867f4e.jpeg?odnHeight=200&odnWidth=200&odnBg=ffffff', 'https://www.walmart.com/ip/Benadryl-Extra-Strength-Cooling-Relief-Anti-Itch-Gel-3-5-fl-oz/35756723', 'benadryl'), (1, 'Benadryl Extra Strength Itch Relief Stick, Travel Size,.47 fl. oz', '$2.34', 'https://i5.walmartimages.com/asr/7cb9ec05-ec48-438e-8a52-3b4d7242fab0_1.10c4fe9846831996010f001105fc8a95.jpeg?odnHeight=200&odnWidth=200&odnBg=ffffff', 'https://www.walmart.com/ip/Benadryl-Extra-Strength-Itch-Relief-Stick-Travel-Size-47-fl-oz/10294030', 'benadryl'), (2, 'Benadryl Anti-Itch Camphor Cooling Gel for Kids, Travel Size, 3 oz', '$4.48', 'https://i5.walmartimages.com/asr/946e0357-fc79-4dad-9cbd-abdcad76b611.23c0410ff164ede431f137b05a16a75e.jpeg?odnHeight=200&odnWidth=200&odnBg=ffffff', 'https://www.walmart.com/ip/Benadryl-Anti-Itch-Camphor-Cooling-Gel-for-Kids-Travel-Size-3-oz/12167271?wpa_bd=&wpa_pg_seller_id=F55CDC31AB754BB68FE0B39 ... (182 characters truncated) ... euFMHxY0TblJ-IOPO4lfN35PktuyBmRbKBg9YlNjY_3WoYkVJIUxhnI3EXQ&wpa_tag=__tag__&wpa_aux_info=__aux_info__&wpa_pos=3&wpa_plmt=__plmt__&wpa_aduid=__aduid__', 'benadryl'), (0, 'Benadryl Extra Strength Cooling Relief Anti-Itch Gel, 3.5 fl. oz', '$5.42', 'https://i5.walmartimages.com/asr/44d0fd48-55e1-43a7-8279-321ce05bb478_1.f41332c0c34acdcb2810f384c9867f4e.jpeg?odnHeight=200&odnWidth=200&odnBg=ffffff', 'https://www.walmart.com/ip/Benadryl-Extra-Strength-Cooling-Relief-Anti-Itch-Gel-3-5-fl-oz/35756723', 'benadryl'), (1, 'Benadryl Extra Strength Itch Relief Stick, Travel Size,.47 fl. oz', '$2.34', 'https://i5.walmartimages.com/asr/7cb9ec05-ec48-438e-8a52-3b4d7242fab0_1.10c4fe9846831996010f001105fc8a95.jpeg?odnHeight=200&odnWidth=200&odnBg=ffffff', 'https://www.walmart.com/ip/Benadryl-Extra-Strength-Itch-Relief-Stick-Travel-Size-47-fl-oz/10294030', 'benadryl'), (2, 'Benadryl Anti-Itch Camphor Cooling Gel for Kids, Travel Size, 3 oz', '$4.48', 'https://i5.walmartimages.com/asr/946e0357-fc79-4dad-9cbd-abdcad76b611.23c0410ff164ede431f137b05a16a75e.jpeg?odnHeight=200&odnWidth=200&odnBg=ffffff', 'https://www.walmart.com/ip/Benadryl-Anti-Itch-Camphor-Cooling-Gel-for-Kids-Travel-Size-3-oz/12167271?wpa_bd=&wpa_pg_seller_id=F55CDC31AB754BB68FE0B39 ... (182 characters truncated) ... euFMHxY0TblJ-IOPO4lfN35PktuyBmRbKBg9YlNjY_3WoYkVJIUxhnI3EXQ&wpa_tag=__tag__&wpa_aux_info=__aux_info__&wpa_pos=3&wpa_plmt=__plmt__&wpa_aduid=__aduid__', 'benadryl'), (0, 'Equate Triple Antibiotic First Aid Ointment, 2 oz, 2 Pack', '$3.98', 'https://i5.walmartimages.com/asr/d0267548-ea54-4fd9-8aad-83c97bd82d8a_1.9fe85efc86ee44844c608f1f586f21d4.jpeg?odnHeight=200&odnWidth=200&odnBg=ffffff', 'https://www.walmart.com/ip/Equate-Triple-Antibiotic-First-Aid-Ointment-2-oz-2-Pack/20659621', 'antibiotic_ointment'), (1, 'Neosporin Original Antibiotic Ointment to Prevent Infection, 1 oz', '$6.97', 'https://i5.walmartimages.com/asr/07196232-1a24-4f2b-9d1d-90c81f98d738_1.9cde8b13c1201b620fc8afcda7f3700b.jpeg?odnHeight=200&odnWidth=200&odnBg=ffffff', 'https://www.walmart.com/ip/Neosporin-Original-Antibiotic-Ointment-to-Prevent-Infection-1-oz/10294303', 'antibiotic_ointment'), (2, 'Equate Maximum Strength Antibiotic Cream + Pain Relief, 1 oz, 2 Pack', '$3.55', 'https://i5.walmartimages.com/asr/8df343bb-5ce8-481a-bcb4-8669ab768ccf_1.945a07c3fc0a4d43358418fad9aae155.jpeg?odnHeight=200&odnWidth=200&odnBg=ffffff', 'https://www.walmart.com/ip/Equate-Maximum-Strength-Antibiotic-Cream-Pain-Relief-1-oz-2-Pack/394618625', 'antibiotic_ointment'), (0, 'ACE Brand Reusable Cold Compress, Large, Soft, 7.75\" x 11.87\", 1/Pack', '$8.86', 'https://i5.walmartimages.com/asr/4074bc3d-7b5c-4ae1-a21c-49a5bca0e739_1.80ec6a883069d4a0b650662bfbb2280a.jpeg?odnHeight=200&odnWidth=200&odnBg=ffffff', 'https://www.walmart.com/ip/ACE-Brand-Reusable-Cold-Compress-Large-Soft-7-75-x-11-87-1-Pack/23554624', 'ice_pack'), (1, 'Ace Large Reusable Cold Compress, 1 Each (Quantity)', '$9.13', 'https://i5.walmartimages.com/asr/5cf0fe40-eae2-424a-a86b-f8ef029361d6_1.495fabfe04095b286c06c34df17643f1.jpeg?odnHeight=200&odnWidth=200&odnBg=ffffff', 'https://www.walmart.com/ip/Ace-Large-Reusable-Cold-Compress-1-Each-Quantity/10532766', 'ice_pack'), (2, 'ACE Reusable Cold Compress, Small, Helps Relieve Pain caused by Sprains and Muscle Aches, Blue 1/Pack', '$4.17', 'https://i5.walmartimages.com/asr/a5406453-2a5c-4676-9efb-7beeb5222042_1.346585c353a2d6999ce66f8ded49b609.jpeg?odnHeight=200&odnWidth=200&odnBg=ffffff', 'https://www.walmart.com/ip/ACE-Reusable-Cold-Compress-Small-Helps-Relieve-Pain-caused-by-Sprains-and-Muscle-Aches-Blue-1-Pack/21854461', 'ice_pack')]\n"
     ]
    }
   ],
   "source": [
    "print(product)"
   ]
  },
  {
   "cell_type": "code",
   "execution_count": 80,
   "metadata": {},
   "outputs": [
    {
     "name": "stdout",
     "output_type": "stream",
     "text": [
      "<class 'numpy.ndarray'>\n",
      "\n",
      "\n",
      "<class 'numpy.ndarray'>\n",
      "\n",
      "\n",
      "<class 'numpy.ndarray'>\n",
      "\n",
      "\n"
     ]
    }
   ],
   "source": [
    "products = []\n",
    "for category in categories:\n",
    "    # print(category[0])\n",
    "    product = engine.execute('SELECT * FROM products WHERE category = ? LIMIT 3',(category[0],)).fetchall()\n",
    "    print(type(np.squeeze(product)))\n",
    "    print('\\n')"
   ]
  },
  {
   "cell_type": "code",
   "execution_count": 62,
   "metadata": {},
   "outputs": [
    {
     "name": "stdout",
     "output_type": "stream",
     "text": [
      "[(0, 'ACE Brand Reusable Cold Compress, Large, Soft, 7.75\" x 11.87\", 1/Pack', '$8.86', 'https://i5.walmartimages.com/asr/4074bc3d-7b5c-4ae1-a21c-49a5bca0e739_1.80ec6a883069d4a0b650662bfbb2280a.jpeg?odnHeight=200&odnWidth=200&odnBg=ffffff', 'https://www.walmart.com/ip/ACE-Brand-Reusable-Cold-Compress-Large-Soft-7-75-x-11-87-1-Pack/23554624', 'ice_pack'), (1, 'Ace Large Reusable Cold Compress, 1 Each (Quantity)', '$9.13', 'https://i5.walmartimages.com/asr/5cf0fe40-eae2-424a-a86b-f8ef029361d6_1.495fabfe04095b286c06c34df17643f1.jpeg?odnHeight=200&odnWidth=200&odnBg=ffffff', 'https://www.walmart.com/ip/Ace-Large-Reusable-Cold-Compress-1-Each-Quantity/10532766', 'ice_pack'), (2, 'ACE Reusable Cold Compress, Small, Helps Relieve Pain caused by Sprains and Muscle Aches, Blue 1/Pack', '$4.17', 'https://i5.walmartimages.com/asr/a5406453-2a5c-4676-9efb-7beeb5222042_1.346585c353a2d6999ce66f8ded49b609.jpeg?odnHeight=200&odnWidth=200&odnBg=ffffff', 'https://www.walmart.com/ip/ACE-Reusable-Cold-Compress-Small-Helps-Relieve-Pain-caused-by-Sprains-and-Muscle-Aches-Blue-1-Pack/21854461', 'ice_pack'), (3, 'Gel Cold &amp; Hot Pack (2 Pack) 11x14 in. Reusable Warm or Ice Packs for Injuries, Hip, Shoulder, Knee, Back Pain  Hot &amp; Cold Compress for Swelling, Bruises, Surgery  Heat &amp; Cold Therapy', '$28.95', 'https://i5.walmartimages.com/asr/8c498049-e90b-4d06-8a46-64951f924727_1.37a913336ab520609d142f650dc1e604.jpeg?odnHeight=200&odnWidth=200&odnBg=ffffff', 'https://www.walmart.com/ip/Therapy-2-Pack-Warm-Packs-Pain-Reusable-Surgery-Bruises-Back-Pack-Compress-Cold-in-Shoulder-Ice-Hot-Gel-Injuries-11x14-Heat-Swelling-Knee-Hip/774805754', 'ice_pack'), (4, 'The Coldest Ice Pack Gel Reusable Flexible Therapy Best For Back Pain Leg Arm Knee Shoulder Sciatic Nerve Recovery Medical Grade X-Large Big Compress 15\" x 12\" by The Coldest Water', '$24.99', 'https://i5.walmartimages.com/asr/259448f7-98ae-4e43-ae3c-3f91dd6850cf_1.89c189328324a98b03472927e95b358a.jpeg?odnHeight=200&odnWidth=200&odnBg=ffffff', 'https://www.walmart.com/ip/Knee-Water-Therapy-Sciatic-Recovery-Coldest-The-Nerve-Pain-Reusable-Shoulder-Back-Best-Pack-Compress-Big-12-For-Ice-Grade-X-Large-Gel-Leg-Flexible-x-/180226263', 'ice_pack'), (5, '4 Reusable Ice Pack Cold Gel Compress Non Toxic Freeze Therapy Pain Food Camping', '$19.83', 'https://i5.walmartimages.com/asr/c51b6266-b8f9-4dba-9a78-d60799167bf8_1.717c585df01b5397f1c784efd42433d0.jpeg?odnHeight=200&odnWidth=200&odnBg=ffffff', 'https://www.walmart.com/ip/4-Reusable-Ice-Pack-Cold-Gel-Compress-Non-Toxic-Freeze-Therapy-Pain-Food-Camping/173872124', 'ice_pack'), (6, 'The Coldest Ice Pack Gel Reusable - Hot + Cold Therapy - Flexible Compress Best for Back Pain Hip Shoulder Neck Ankle Sprain Recovery, Muscle Injury Medical Grade', '$23.99', 'https://i5.walmartimages.com/asr/ac8fcb66-f9b0-47a1-b9f1-fbf5d333088f_1.9eae5f0ff1d349a8b2c65e42e13a7ea1.jpeg?odnHeight=200&odnWidth=200&odnBg=ffffff', 'https://www.walmart.com/ip/Therapy-Injury-Coldest-The-Sprain-Pain-Reusable-Shoulder-Back-Muscle-Best-Neck-Pack-Compress-Cold-Ice-Grade-Hot-Hip-Gel-Ankle-Flexible-Recovery-Medic/685386761', 'ice_pack'), (7, 'Gel Cold &amp; Hot Pack Wrap – 11x14 in. Reusable Warm or Ice Pack for Injuries, Hip, Shoulder, Knee, Back Pain – Hot &amp; Cold Compress for Swelling, Bruises, Surgery - Heat &amp; Cold Therapy(1 Pack)', '$24.95', 'https://i5.walmartimages.com/asr/6fae4727-edad-458f-90f1-383f1067929a_1.5efb85796267c8a80f78dba16537022c.jpeg?odnHeight=200&odnWidth=200&odnBg=ffffff', 'https://www.walmart.com/ip/Wrap-Pack-Therapy-1-Warm-Pain-Reusable-Surgery-Bruises-Back-Pack-Compress-Cold-in-Shoulder-Ice-Hot-Gel-Injuries-11x14-Heat-Swelling-Knee-Hip/354347051', 'ice_pack'), (8, 'DMI Ice Kold Instant Ice Compresses, Junior, White, 4-3/4 Inch X 6-1/2 Inch (50 Packs)', '$31.01', 'https://i5.walmartimages.com/asr/8fd8f14e-0beb-4174-9f67-26bae72218c3_2.38746487d6d78b9aa836e86d39b7a11d.jpeg?odnHeight=200&odnWidth=200&odnBg=ffffff', 'https://www.walmart.com/ip/DMI-Ice-Kold-Instant-Ice-Compresses-Junior-White-4-3-4-Inch-X-6-1-2-Inch-50-Packs/706873865', 'ice_pack'), (9, 'Equate Instant Cold Compress, 1 Count', '$2.98', 'https://i5.walmartimages.com/asr/de5acefe-f7ae-46b7-aa7c-7b46ee406806_1.0a93439dff4f306cddb2dba8b85c72cb.jpeg?odnHeight=200&odnWidth=200&odnBg=ffffff', 'https://www.walmart.com/ip/Equate-Instant-Cold-Compress-1-Count/370947897', 'ice_pack'), (0, 'ACE Brand Reusable Cold Compress, Large, Soft, 7.75\" x 11.87\", 1/Pack', '$8.86', 'https://i5.walmartimages.com/asr/4074bc3d-7b5c-4ae1-a21c-49a5bca0e739_1.80ec6a883069d4a0b650662bfbb2280a.jpeg?odnHeight=200&odnWidth=200&odnBg=ffffff', 'https://www.walmart.com/ip/ACE-Brand-Reusable-Cold-Compress-Large-Soft-7-75-x-11-87-1-Pack/23554624', 'ice_pack'), (1, 'Ace Large Reusable Cold Compress, 1 Each (Quantity)', '$9.13', 'https://i5.walmartimages.com/asr/5cf0fe40-eae2-424a-a86b-f8ef029361d6_1.495fabfe04095b286c06c34df17643f1.jpeg?odnHeight=200&odnWidth=200&odnBg=ffffff', 'https://www.walmart.com/ip/Ace-Large-Reusable-Cold-Compress-1-Each-Quantity/10532766', 'ice_pack'), (2, 'ACE Reusable Cold Compress, Small, Helps Relieve Pain caused by Sprains and Muscle Aches, Blue 1/Pack', '$4.17', 'https://i5.walmartimages.com/asr/a5406453-2a5c-4676-9efb-7beeb5222042_1.346585c353a2d6999ce66f8ded49b609.jpeg?odnHeight=200&odnWidth=200&odnBg=ffffff', 'https://www.walmart.com/ip/ACE-Reusable-Cold-Compress-Small-Helps-Relieve-Pain-caused-by-Sprains-and-Muscle-Aches-Blue-1-Pack/21854461', 'ice_pack'), (3, 'Gel Cold &amp; Hot Pack (2 Pack) 11x14 in. Reusable Warm or Ice Packs for Injuries, Hip, Shoulder, Knee, Back Pain  Hot &amp; Cold Compress for Swelling, Bruises, Surgery  Heat &amp; Cold Therapy', '$28.95', 'https://i5.walmartimages.com/asr/8c498049-e90b-4d06-8a46-64951f924727_1.37a913336ab520609d142f650dc1e604.jpeg?odnHeight=200&odnWidth=200&odnBg=ffffff', 'https://www.walmart.com/ip/Therapy-2-Pack-Warm-Packs-Pain-Reusable-Surgery-Bruises-Back-Pack-Compress-Cold-in-Shoulder-Ice-Hot-Gel-Injuries-11x14-Heat-Swelling-Knee-Hip/774805754', 'ice_pack'), (4, 'The Coldest Ice Pack Gel Reusable Flexible Therapy Best For Back Pain Leg Arm Knee Shoulder Sciatic Nerve Recovery Medical Grade X-Large Big Compress 15\" x 12\" by The Coldest Water', '$24.99', 'https://i5.walmartimages.com/asr/259448f7-98ae-4e43-ae3c-3f91dd6850cf_1.89c189328324a98b03472927e95b358a.jpeg?odnHeight=200&odnWidth=200&odnBg=ffffff', 'https://www.walmart.com/ip/Knee-Water-Therapy-Sciatic-Recovery-Coldest-The-Nerve-Pain-Reusable-Shoulder-Back-Best-Pack-Compress-Big-12-For-Ice-Grade-X-Large-Gel-Leg-Flexible-x-/180226263', 'ice_pack'), (5, '4 Reusable Ice Pack Cold Gel Compress Non Toxic Freeze Therapy Pain Food Camping', '$19.83', 'https://i5.walmartimages.com/asr/c51b6266-b8f9-4dba-9a78-d60799167bf8_1.717c585df01b5397f1c784efd42433d0.jpeg?odnHeight=200&odnWidth=200&odnBg=ffffff', 'https://www.walmart.com/ip/4-Reusable-Ice-Pack-Cold-Gel-Compress-Non-Toxic-Freeze-Therapy-Pain-Food-Camping/173872124', 'ice_pack'), (6, 'The Coldest Ice Pack Gel Reusable - Hot + Cold Therapy - Flexible Compress Best for Back Pain Hip Shoulder Neck Ankle Sprain Recovery, Muscle Injury Medical Grade', '$23.99', 'https://i5.walmartimages.com/asr/ac8fcb66-f9b0-47a1-b9f1-fbf5d333088f_1.9eae5f0ff1d349a8b2c65e42e13a7ea1.jpeg?odnHeight=200&odnWidth=200&odnBg=ffffff', 'https://www.walmart.com/ip/Therapy-Injury-Coldest-The-Sprain-Pain-Reusable-Shoulder-Back-Muscle-Best-Neck-Pack-Compress-Cold-Ice-Grade-Hot-Hip-Gel-Ankle-Flexible-Recovery-Medic/685386761', 'ice_pack'), (7, 'Gel Cold &amp; Hot Pack Wrap – 11x14 in. Reusable Warm or Ice Pack for Injuries, Hip, Shoulder, Knee, Back Pain – Hot &amp; Cold Compress for Swelling, Bruises, Surgery - Heat &amp; Cold Therapy(1 Pack)', '$24.95', 'https://i5.walmartimages.com/asr/6fae4727-edad-458f-90f1-383f1067929a_1.5efb85796267c8a80f78dba16537022c.jpeg?odnHeight=200&odnWidth=200&odnBg=ffffff', 'https://www.walmart.com/ip/Wrap-Pack-Therapy-1-Warm-Pain-Reusable-Surgery-Bruises-Back-Pack-Compress-Cold-in-Shoulder-Ice-Hot-Gel-Injuries-11x14-Heat-Swelling-Knee-Hip/354347051', 'ice_pack'), (8, 'DMI Ice Kold Instant Ice Compresses, Junior, White, 4-3/4 Inch X 6-1/2 Inch (50 Packs)', '$31.01', 'https://i5.walmartimages.com/asr/8fd8f14e-0beb-4174-9f67-26bae72218c3_2.38746487d6d78b9aa836e86d39b7a11d.jpeg?odnHeight=200&odnWidth=200&odnBg=ffffff', 'https://www.walmart.com/ip/DMI-Ice-Kold-Instant-Ice-Compresses-Junior-White-4-3-4-Inch-X-6-1-2-Inch-50-Packs/706873865', 'ice_pack'), (9, 'Equate Instant Cold Compress, 1 Count', '$2.98', 'https://i5.walmartimages.com/asr/de5acefe-f7ae-46b7-aa7c-7b46ee406806_1.0a93439dff4f306cddb2dba8b85c72cb.jpeg?odnHeight=200&odnWidth=200&odnBg=ffffff', 'https://www.walmart.com/ip/Equate-Instant-Cold-Compress-1-Count/370947897', 'ice_pack')]\n"
     ]
    }
   ],
   "source": [
    "print(product)"
   ]
  },
  {
   "cell_type": "code",
   "execution_count": null,
   "metadata": {},
   "outputs": [],
   "source": []
  }
 ],
 "metadata": {
  "kernelspec": {
   "display_name": "Python 3",
   "language": "python",
   "name": "python3"
  },
  "language_info": {
   "codemirror_mode": {
    "name": "ipython",
    "version": 3
   },
   "file_extension": ".py",
   "mimetype": "text/x-python",
   "name": "python",
   "nbconvert_exporter": "python",
   "pygments_lexer": "ipython3",
   "version": "3.7.7"
  }
 },
 "nbformat": 4,
 "nbformat_minor": 4
}
