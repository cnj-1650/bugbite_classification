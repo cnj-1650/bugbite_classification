{
 "cells": [
  {
   "cell_type": "code",
   "execution_count": 38,
   "metadata": {},
   "outputs": [],
   "source": [
    "import pandas as pd"
   ]
  },
  {
   "cell_type": "code",
   "execution_count": 39,
   "metadata": {},
   "outputs": [],
   "source": [
    "file_path = 'webpage_resources/others/bug_situation_products.csv'\n",
    "relief = pd.read_csv(file_path)"
   ]
  },
  {
   "cell_type": "code",
   "execution_count": 41,
   "metadata": {},
   "outputs": [],
   "source": [
    "from sqlalchemy import create_engine\n",
    "\n",
    "# save a sqlite file called bugbite\n",
    "engine = create_engine('sqlite:///bugbite.sqlite', echo=False)"
   ]
  },
  {
   "cell_type": "code",
   "execution_count": 43,
   "metadata": {},
   "outputs": [],
   "source": [
    "# convert dataframe to sql, labeling the index as id\n",
    "relief.to_sql('bug_category',con=engine,if_exists='replace',index_label='id')"
   ]
  },
  {
   "cell_type": "code",
   "execution_count": 44,
   "metadata": {},
   "outputs": [
    {
     "data": {
      "text/plain": [
       "[(0, 'spiders', 'itching', 'benadryl'),\n",
       " (1, 'fire_ants', 'general', 'aloe_vera'),\n",
       " (2, 'fire_ants', 'general', 'ice_pack'),\n",
       " (3, 'fire_ants', 'general', 'witch_hazel'),\n",
       " (4, 'bed_bugs', 'itching', 'benadryl'),\n",
       " (5, 'bed_bugs', 'pain', 'pain reliever'),\n",
       " (6, 'spiders', 'blisters', 'antibiotic_ointment'),\n",
       " (7, 'chiggers', 'welts', 'antiseptic'),\n",
       " (8, 'spiders', 'general', 'ice_pack'),\n",
       " (9, 'chiggers', 'general', 'calamine_lotion'),\n",
       " (10, 'chiggers', 'general', 'anti_itch_cream'),\n",
       " (11, 'bed_bugs', 'general', 'anti_itch_cream'),\n",
       " (12, 'bed_bugs', 'general', 'calamine_lotion'),\n",
       " (13, 'bed_bugs', 'general', 'ice_pack'),\n",
       " (14, 'bed_bugs', 'swelling', 'pain reliever'),\n",
       " (15, 'bed_bugs', 'burning', 'benadryl')]"
      ]
     },
     "execution_count": 44,
     "metadata": {},
     "output_type": "execute_result"
    }
   ],
   "source": [
    "# checking that the table was made\n",
    "engine.execute(\"SELECT * FROM bug_category\").fetchall()"
   ]
  },
  {
   "cell_type": "code",
   "execution_count": null,
   "metadata": {},
   "outputs": [],
   "source": []
  }
 ],
 "metadata": {
  "kernelspec": {
   "display_name": "Python 3",
   "language": "python",
   "name": "python3"
  },
  "language_info": {
   "codemirror_mode": {
    "name": "ipython",
    "version": 3
   },
   "file_extension": ".py",
   "mimetype": "text/x-python",
   "name": "python",
   "nbconvert_exporter": "python",
   "pygments_lexer": "ipython3",
   "version": "3.7.7"
  }
 },
 "nbformat": 4,
 "nbformat_minor": 4
}
